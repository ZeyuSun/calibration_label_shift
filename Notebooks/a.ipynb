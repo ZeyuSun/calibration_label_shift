{
 "cells": [
  {
   "cell_type": "code",
   "execution_count": null,
   "metadata": {},
   "outputs": [],
   "source": [
    "import numpy as np\n",
    "\n",
    "from sklearn.datasets import make_blobs\n",
    "\n",
    "np.random.seed(0)\n",
    "\n",
    "X, y = make_blobs(\n",
    "    n_samples=2000, n_features=2, centers=3, random_state=42, cluster_std=5.0\n",
    ")\n",
    "X_train, y_train = X[:600], y[:600]\n",
    "X_valid, y_valid = X[600:1000], y[600:1000]\n",
    "X_train_valid, y_train_valid = X[:1000], y[:1000]\n",
    "X_test, y_test = X[1000:], y[1000:]"
   ]
  },
  {
   "cell_type": "code",
   "execution_count": null,
   "metadata": {},
   "outputs": [],
   "source": [
    "for k, col in enumerate(colors):\n",
    "    cluster_data = y_true == k\n",
    "    plt.scatter(X[cluster_data, 0], X[cluster_data, 1], c=col, marker=\".\", s=10)"
   ]
  },
  {
   "cell_type": "code",
   "execution_count": null,
   "metadata": {},
   "outputs": [],
   "source": []
  },
  {
   "cell_type": "markdown",
   "metadata": {},
   "source": [
    "## Sharpness risk for small B\n",
    "For sharpness risk vs $B$, we observe an increase of sharpness risk from $B=6$ to $B=11$.\n",
    "This is because if $B$ is odd, then the fastest increasing interval around 0.5 is put into a single bin, which tends to increase the sharpness risk.\n",
    "This finite sample behavior becomes insignificant as the number of bins tends to infinity."
   ]
  },
  {
   "cell_type": "code",
   "execution_count": null,
   "metadata": {},
   "outputs": [
    {
     "data": {
      "application/vnd.jupyter.widget-view+json": {
       "model_id": "29e88c101b1a452db82005bcda7d5ba7",
       "version_major": 2,
       "version_minor": 0
      },
      "text/plain": [
       "  0%|          | 0/29 [00:00<?, ?it/s]"
      ]
     },
     "metadata": {},
     "output_type": "display_data"
    }
   ],
   "source": [
    "from tqdm.auto import trange\n",
    "sha = []\n",
    "n = 1000\n",
    "sim = Simulation1()\n",
    "z, y = sim.generate_data(n)\n",
    "for B in trange(1, 30):\n",
    "    calibrator = HistogramCalibrator(n_bins=B, strategy='quantile').fit(z, y)\n",
    "    metrics = evaluate(calibrator, sim.py_given_z, sim.pz)\n",
    "    sha.append(metrics['sha'])\n",
    "plt.plot(range(1,30), sha, 'o-')"
   ]
  },
  {
   "cell_type": "code",
   "execution_count": null,
   "metadata": {},
   "outputs": [],
   "source": []
  },
  {
   "cell_type": "code",
   "execution_count": null,
   "metadata": {},
   "outputs": [],
   "source": [
    "from calibration import OracleCalibrator, BinnedOracleCalibrator, HistogramCalibrator, IsotonicCalibrator, PlattCalibrator\n",
    "h_hist = HistogramCalibrator(n_bins=10, strategy='uniform').fit(z, y)\n",
    "h_iso = IsotonicCalibrator().fit(z, y)\n",
    "h_platt = PlattCalibrator().fit(z, y)\n",
    "\n",
    "binned = BinnedOracleCalibrator(bins=h_hist.bins, py_given_z=sim.py_given_z, pz=sim.pz)\n",
    "oracle = OracleCalibrator(py_given_z=sim.py_given_z)"
   ]
  }
 ],
 "metadata": {
  "kernelspec": {
   "display_name": "Python 3 (ipykernel)",
   "language": "python",
   "name": "python3"
  },
  "language_info": {
   "codemirror_mode": {
    "name": "ipython",
    "version": 3
   },
   "file_extension": ".py",
   "mimetype": "text/x-python",
   "name": "python",
   "nbconvert_exporter": "python",
   "pygments_lexer": "ipython3",
   "version": "3.9.12"
  }
 },
 "nbformat": 4,
 "nbformat_minor": 4
}
