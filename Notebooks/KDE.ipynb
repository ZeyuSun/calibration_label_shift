{
 "cells": [
  {
   "attachments": {},
   "cell_type": "markdown",
   "metadata": {},
   "source": [
    "* z, y|z\n",
    "* implement knn, dt, kernel\n",
    "* compare asymp"
   ]
  },
  {
   "attachments": {},
   "cell_type": "markdown",
   "metadata": {},
   "source": [
    "## Data"
   ]
  },
  {
   "cell_type": "code",
   "execution_count": 38,
   "metadata": {},
   "outputs": [],
   "source": [
    "from scipy.stats import dirichlet\n",
    "from scipy.special import softmax"
   ]
  },
  {
   "cell_type": "code",
   "execution_count": 39,
   "metadata": {},
   "outputs": [],
   "source": [
    "class SimulatedData:\n",
    "    def __init__(self, dim):\n",
    "        self.dim = dim\n",
    "        self.T = 0.6\n",
    "\n",
    "    def pz(self, z):\n",
    "        return dirichlet.pdf(z, [1] * self.dim)\n",
    "    \n",
    "    def py_given_z(self, z):\n",
    "        return softmax(z / self.T)\n",
    "    \n",
    "    def sample(self, n):\n",
    "        z = np.random.dirichlet([1] * self.dim, n)\n",
    "        y = np.array([np.random.multinomial(1, self.py_given_z(zz)) for zz in z])\n",
    "        return z, y"
   ]
  },
  {
   "cell_type": "code",
   "execution_count": 40,
   "metadata": {},
   "outputs": [],
   "source": [
    "data = SimulatedData(3)\n",
    "z, y = data.sample(1000)"
   ]
  },
  {
   "cell_type": "code",
   "execution_count": 9,
   "metadata": {},
   "outputs": [
    {
     "ename": "IndexError",
     "evalue": "too many indices for array: array is 2-dimensional, but 3 were indexed",
     "output_type": "error",
     "traceback": [
      "\u001b[0;31m---------------------------------------------------------------------------\u001b[0m",
      "\u001b[0;31mIndexError\u001b[0m                                Traceback (most recent call last)",
      "\u001b[1;32m/home/zeyusun/work/wip/KDE.ipynb Cell 6\u001b[0m in \u001b[0;36m<cell line: 3>\u001b[0;34m()\u001b[0m\n\u001b[1;32m      <a href='vscode-notebook-cell:/home/zeyusun/work/wip/KDE.ipynb#X16sZmlsZQ%3D%3D?line=0'>1</a>\u001b[0m \u001b[39mfrom\u001b[39;00m \u001b[39mpycalib\u001b[39;00m\u001b[39m.\u001b[39;00m\u001b[39mvisualisations\u001b[39;00m\u001b[39m.\u001b[39;00m\u001b[39mternary\u001b[39;00m \u001b[39mimport\u001b[39;00m draw_tri_samples\n\u001b[0;32m----> <a href='vscode-notebook-cell:/home/zeyusun/work/wip/KDE.ipynb#X16sZmlsZQ%3D%3D?line=2'>3</a>\u001b[0m fig, ax \u001b[39m=\u001b[39m draw_tri_samples(z, classes\u001b[39m=\u001b[39;49my, alpha\u001b[39m=\u001b[39;49m\u001b[39m0.6\u001b[39;49m)\n",
      "File \u001b[0;32m~/.conda/envs/py39/lib/python3.9/site-packages/pycalib/visualisations/ternary.py:32\u001b[0m, in \u001b[0;36mdraw_tri_samples\u001b[0;34m(pvals, classes, labels, fig, ax, legend, color_list, **kwargs)\u001b[0m\n\u001b[1;32m     30\u001b[0m \u001b[39mfor\u001b[39;00m c \u001b[39min\u001b[39;00m [\u001b[39m0\u001b[39m, \u001b[39m1\u001b[39m, \u001b[39m2\u001b[39m]:\n\u001b[1;32m     31\u001b[0m     c_idx \u001b[39m=\u001b[39m classes \u001b[39m==\u001b[39m c\n\u001b[0;32m---> 32\u001b[0m     ax\u001b[39m.\u001b[39mscatter(xy[c_idx, \u001b[39m0\u001b[39;49m], xy[c_idx, \u001b[39m1\u001b[39m],\n\u001b[1;32m     33\u001b[0m                label\u001b[39m=\u001b[39mlabels[c], color\u001b[39m=\u001b[39mcolor_list[c],\n\u001b[1;32m     34\u001b[0m                \u001b[39m*\u001b[39m\u001b[39m*\u001b[39mkwargs)\n\u001b[1;32m     35\u001b[0m \u001b[39mif\u001b[39;00m legend:\n\u001b[1;32m     36\u001b[0m     leg \u001b[39m=\u001b[39m ax\u001b[39m.\u001b[39mlegend()\n",
      "\u001b[0;31mIndexError\u001b[0m: too many indices for array: array is 2-dimensional, but 3 were indexed"
     ]
    },
    {
     "data": {
      "image/png": "[encoded data removed]",
      "text/plain": [
       "<Figure size 432x288 with 1 Axes>"
      ]
     },
     "metadata": {
      "needs_background": "light"
     },
     "output_type": "display_data"
    }
   ],
   "source": [
    "from pycalib.visualisations.ternary import draw_tri_samples\n",
    "\n",
    "fig, ax = draw_tri_samples(z, classes=y, alpha=0.6)"
   ]
  },
  {
   "attachments": {},
   "cell_type": "markdown",
   "metadata": {},
   "source": [
    "## Model"
   ]
  },
  {
   "cell_type": "code",
   "execution_count": 41,
   "metadata": {},
   "outputs": [],
   "source": [
    "from calibration import HistogramCalibrator, DecisionTreeCalibrator, KNNCalibrator, IsotonicCalibrator\n",
    "from simulation_calibration import evaluate"
   ]
  },
  {
   "cell_type": "code",
   "execution_count": null,
   "metadata": {},
   "outputs": [],
   "source": []
  },
  {
   "cell_type": "code",
   "execution_count": 42,
   "metadata": {},
   "outputs": [
    {
     "ename": "ValueError",
     "evalue": "object too deep for desired array",
     "output_type": "error",
     "traceback": [
      "\u001b[0;31m---------------------------------------------------------------------------\u001b[0m",
      "\u001b[0;31mValueError\u001b[0m                                Traceback (most recent call last)",
      "\u001b[1;32m/x/home/zeyusun/work/wip/KDE.ipynb Cell 9\u001b[0m in \u001b[0;36m<cell line: 10>\u001b[0;34m()\u001b[0m\n\u001b[1;32m      <a href='vscode-notebook-cell:/x/home/zeyusun/work/wip/KDE.ipynb#X10sZmlsZQ%3D%3D?line=8'>9</a>\u001b[0m results \u001b[39m=\u001b[39m []\n\u001b[1;32m     <a href='vscode-notebook-cell:/x/home/zeyusun/work/wip/KDE.ipynb#X10sZmlsZQ%3D%3D?line=9'>10</a>\u001b[0m \u001b[39mfor\u001b[39;00m name, calibrator \u001b[39min\u001b[39;00m calibrators\u001b[39m.\u001b[39mitems():\n\u001b[0;32m---> <a href='vscode-notebook-cell:/x/home/zeyusun/work/wip/KDE.ipynb#X10sZmlsZQ%3D%3D?line=10'>11</a>\u001b[0m     calibrator\u001b[39m.\u001b[39;49mfit(z, y)\n\u001b[1;32m     <a href='vscode-notebook-cell:/x/home/zeyusun/work/wip/KDE.ipynb#X10sZmlsZQ%3D%3D?line=11'>12</a>\u001b[0m     metrics \u001b[39m=\u001b[39m evaluate(calibrator, data\u001b[39m.\u001b[39mpy_given_z, data\u001b[39m.\u001b[39mpz)\n\u001b[1;32m     <a href='vscode-notebook-cell:/x/home/zeyusun/work/wip/KDE.ipynb#X10sZmlsZQ%3D%3D?line=12'>13</a>\u001b[0m     metrics\u001b[39m.\u001b[39mupdate({\u001b[39m'\u001b[39m\u001b[39mname\u001b[39m\u001b[39m'\u001b[39m: name})\n",
      "File \u001b[0;32m/x/home/zeyusun/work/wip/calibration.py:97\u001b[0m, in \u001b[0;36mHistogramCalibrator.fit\u001b[0;34m(self, z, y)\u001b[0m\n\u001b[1;32m     95\u001b[0m bins[\u001b[39m0\u001b[39m], bins[\u001b[39m-\u001b[39m\u001b[39m1\u001b[39m] \u001b[39m=\u001b[39m \u001b[39m0\u001b[39m, \u001b[39m1\u001b[39m \u001b[39m+\u001b[39m \u001b[39m1e-8\u001b[39m  \u001b[39m# 1e-16 doesn't work: 1 + 1e-16 == 1\u001b[39;00m\n\u001b[1;32m     96\u001b[0m binids \u001b[39m=\u001b[39m np\u001b[39m.\u001b[39mdigitize(z, bins) \u001b[39m-\u001b[39m \u001b[39m1\u001b[39m\n\u001b[0;32m---> 97\u001b[0m bin_total \u001b[39m=\u001b[39m np\u001b[39m.\u001b[39;49mbincount(binids, minlength\u001b[39m=\u001b[39;49m\u001b[39mself\u001b[39;49m\u001b[39m.\u001b[39;49mn_bins)\n\u001b[1;32m     98\u001b[0m bin_true \u001b[39m=\u001b[39m np\u001b[39m.\u001b[39mbincount(binids, weights\u001b[39m=\u001b[39my, minlength\u001b[39m=\u001b[39m\u001b[39mself\u001b[39m\u001b[39m.\u001b[39mn_bins)\n\u001b[1;32m     99\u001b[0m \u001b[39mwith\u001b[39;00m warnings\u001b[39m.\u001b[39mcatch_warnings():\n",
      "File \u001b[0;32m<__array_function__ internals>:180\u001b[0m, in \u001b[0;36mbincount\u001b[0;34m(*args, **kwargs)\u001b[0m\n",
      "\u001b[0;31mValueError\u001b[0m: object too deep for desired array"
     ]
    }
   ],
   "source": [
    "calibrators = {\n",
    "    \"UWB\": HistogramCalibrator(n_bins=10, strategy=\"uniform\"),\n",
    "    'UMB': HistogramCalibrator(n_bins=10, strategy=\"quantile\"),\n",
    "    'DT': DecisionTreeCalibrator(max_depth=4, min_samples_leaf=10), # no intra-bin continuity\n",
    "    'KNN': KNNCalibrator(k=100),\n",
    "    'ISO': IsotonicCalibrator(),\n",
    "}\n",
    "\n",
    "results = []\n",
    "for name, calibrator in calibrators.items():\n",
    "    calibrator.fit(z, y)\n",
    "    metrics = evaluate(calibrator, data.py_given_z, data.pz)\n",
    "    metrics.update({'name': name})\n",
    "    results.append(metrics)\n",
    "\n",
    "df = pd.DataFrame(results)\n",
    "df"
   ]
  },
  {
   "cell_type": "code",
   "execution_count": 1,
   "metadata": {},
   "outputs": [],
   "source": [
    "from sklearn.neighbors import KNeighborsRegressor"
   ]
  },
  {
   "cell_type": "code",
   "execution_count": 2,
   "metadata": {},
   "outputs": [],
   "source": [
    "class KNNCalibrator:\n",
    "    def __init__(self, k=5) -> None:\n",
    "        self.knn = KNeighborsRegressor(n_neighbors=k)\n",
    "\n",
    "    def fit(self, X, y):\n",
    "        self.knn.fit(X, y)\n",
    "        return self\n",
    "\n",
    "    def __call__(self, X):\n",
    "        return self.knn.predict(X)"
   ]
  },
  {
   "attachments": {},
   "cell_type": "markdown",
   "metadata": {},
   "source": [
    "## Two class"
   ]
  },
  {
   "cell_type": "code",
   "execution_count": 44,
   "metadata": {},
   "outputs": [
    {
     "name": "stdout",
     "output_type": "stream",
     "text": [
      "The autoreload extension is already loaded. To reload it, use:\n",
      "  %reload_ext autoreload\n"
     ]
    }
   ],
   "source": [
    "from simulation_label_shift import GaussianMixture\n",
    "%load_ext autoreload\n",
    "%autoreload 2"
   ]
  },
  {
   "cell_type": "code",
   "execution_count": 45,
   "metadata": {},
   "outputs": [],
   "source": [
    "data = GaussianMixture(2, 0.5)\n",
    "z, y = data.sample(1000)"
   ]
  },
  {
   "cell_type": "code",
   "execution_count": 46,
   "metadata": {},
   "outputs": [],
   "source": [
    "from calibration import HistogramCalibrator, DecisionTreeCalibrator, KNNCalibrator, IsotonicCalibrator\n",
    "from simulation_calibration import evaluate"
   ]
  },
  {
   "cell_type": "code",
   "execution_count": 47,
   "metadata": {},
   "outputs": [
    {
     "data": {
      "text/html": [
       "<div>\n",
       "<style scoped>\n",
       "    .dataframe tbody tr th:only-of-type {\n",
       "        vertical-align: middle;\n",
       "    }\n",
       "\n",
       "    .dataframe tbody tr th {\n",
       "        vertical-align: top;\n",
       "    }\n",
       "\n",
       "    .dataframe thead th {\n",
       "        text-align: right;\n",
       "    }\n",
       "</style>\n",
       "<table border=\"1\" class=\"dataframe\">\n",
       "  <thead>\n",
       "    <tr style=\"text-align: right;\">\n",
       "      <th></th>\n",
       "      <th>cal</th>\n",
       "      <th>sha</th>\n",
       "      <th>ref</th>\n",
       "      <th>risk</th>\n",
       "      <th>bs</th>\n",
       "      <th>name</th>\n",
       "    </tr>\n",
       "  </thead>\n",
       "  <tbody>\n",
       "    <tr>\n",
       "      <th>0</th>\n",
       "      <td>0.001506</td>\n",
       "      <td>0.000568</td>\n",
       "      <td>0.00251</td>\n",
       "      <td>0.002074</td>\n",
       "      <td>0.004584</td>\n",
       "      <td>UWB</td>\n",
       "    </tr>\n",
       "    <tr>\n",
       "      <th>1</th>\n",
       "      <td>0.000647</td>\n",
       "      <td>0.003120</td>\n",
       "      <td>0.00251</td>\n",
       "      <td>0.003767</td>\n",
       "      <td>0.006278</td>\n",
       "      <td>UMB</td>\n",
       "    </tr>\n",
       "    <tr>\n",
       "      <th>2</th>\n",
       "      <td>0.003444</td>\n",
       "      <td>0.000000</td>\n",
       "      <td>0.00251</td>\n",
       "      <td>0.003444</td>\n",
       "      <td>0.005955</td>\n",
       "      <td>DT</td>\n",
       "    </tr>\n",
       "    <tr>\n",
       "      <th>3</th>\n",
       "      <td>0.000717</td>\n",
       "      <td>0.000000</td>\n",
       "      <td>0.00251</td>\n",
       "      <td>0.000717</td>\n",
       "      <td>0.003228</td>\n",
       "      <td>KNN</td>\n",
       "    </tr>\n",
       "    <tr>\n",
       "      <th>4</th>\n",
       "      <td>0.001087</td>\n",
       "      <td>0.000293</td>\n",
       "      <td>0.00251</td>\n",
       "      <td>0.001380</td>\n",
       "      <td>0.003891</td>\n",
       "      <td>ISO</td>\n",
       "    </tr>\n",
       "  </tbody>\n",
       "</table>\n",
       "</div>"
      ],
      "text/plain": [
       "        cal       sha      ref      risk        bs name\n",
       "0  0.001506  0.000568  0.00251  0.002074  0.004584  UWB\n",
       "1  0.000647  0.003120  0.00251  0.003767  0.006278  UMB\n",
       "2  0.003444  0.000000  0.00251  0.003444  0.005955   DT\n",
       "3  0.000717  0.000000  0.00251  0.000717  0.003228  KNN\n",
       "4  0.001087  0.000293  0.00251  0.001380  0.003891  ISO"
      ]
     },
     "execution_count": 47,
     "metadata": {},
     "output_type": "execute_result"
    }
   ],
   "source": [
    "calibrators = {\n",
    "    \"UWB\": HistogramCalibrator(n_bins=10, strategy=\"uniform\"),\n",
    "    'UMB': HistogramCalibrator(n_bins=10, strategy=\"quantile\"),\n",
    "    'DT': DecisionTreeCalibrator(max_depth=4, min_samples_leaf=10), # no intra-bin continuity\n",
    "    'KNN': KNNCalibrator(k=100),\n",
    "    'ISO': IsotonicCalibrator(),\n",
    "}\n",
    "\n",
    "results = []\n",
    "for name, calibrator in calibrators.items():\n",
    "    calibrator.fit(z, y)\n",
    "    metrics = evaluate(calibrator, data.py_given_z, data.pz)\n",
    "    metrics.update({'name': name})\n",
    "    results.append(metrics)\n",
    "\n",
    "df = pd.DataFrame(results)\n",
    "df"
   ]
  },
  {
   "cell_type": "code",
   "execution_count": 50,
   "metadata": {},
   "outputs": [
    {
     "data": {
      "image/png": "[encoded data removed]",
      "text/plain": [
       "<Figure size 288x288 with 1 Axes>"
      ]
     },
     "metadata": {
      "needs_background": "light"
     },
     "output_type": "display_data"
    }
   ],
   "source": [
    "from calibration import OracleCalibrator\n",
    "\n",
    "\n",
    "fig, ax = plt.subplots(figsize=(4,4))\n",
    "for name, calibrator in calibrators.items():\n",
    "    # if name not in [\"KNN\"]:\n",
    "    #     continue\n",
    "    calibrator.plot(ax=ax, label=name)\n",
    "OracleCalibrator(data.py_given_z).plot(ax=ax, label=\"Oracle\", set_layout=True)\n",
    "plt.savefig('knn_dt.png', dpi=300, bbox_inches='tight')"
   ]
  },
  {
   "cell_type": "code",
   "execution_count": 32,
   "metadata": {},
   "outputs": [
    {
     "data": {
      "image/svg+xml": [
       "<?xml version=\"1.0\" encoding=\"UTF-8\" standalone=\"no\"?>\n",
       "<!DOCTYPE svg PUBLIC \"-//W3C//DTD SVG 1.1//EN\"\n",
       " \"http://www.w3.org/Graphics/SVG/1.1/DTD/svg11.dtd\">\n",
       "<!-- Generated by graphviz version 2.43.0 (0)\n",
       " -->\n",
       "<!-- Title: Tree Pages: 1 -->\n",
       "<svg width=\"1106pt\" height=\"373pt\"\n",
       " viewBox=\"0.00 0.00 1106.00 373.00\" xmlns=\"http://www.w3.org/2000/svg\" xmlns:xlink=\"http://www.w3.org/1999/xlink\">\n",
       "<g id=\"graph0\" class=\"graph\" transform=\"scale(1 1) rotate(0) translate(4 369)\">\n",
       "<title>Tree</title>\n",
       "<polygon fill=\"white\" stroke=\"transparent\" points=\"-4,4 -4,-369 1102,-369 1102,4 -4,4\"/>\n",
       "<!-- 0 -->\n",
       "<g id=\"node1\" class=\"node\">\n",
       "<title>0</title>\n",
       "<path fill=\"#f2be99\" stroke=\"black\" d=\"M619.5,-365C619.5,-365 478.5,-365 478.5,-365 472.5,-365 466.5,-359 466.5,-353 466.5,-353 466.5,-309 466.5,-309 466.5,-303 472.5,-297 478.5,-297 478.5,-297 619.5,-297 619.5,-297 625.5,-297 631.5,-303 631.5,-309 631.5,-309 631.5,-353 631.5,-353 631.5,-359 625.5,-365 619.5,-365\"/>\n",
       "<text text-anchor=\"start\" x=\"514\" y=\"-349.8\" font-family=\"Helvetica,sans-Serif\" font-size=\"14.00\">z ≤ 0.447</text>\n",
       "<text text-anchor=\"start\" x=\"474.5\" y=\"-334.8\" font-family=\"Helvetica,sans-Serif\" font-size=\"14.00\">squared_error = 0.25</text>\n",
       "<text text-anchor=\"start\" x=\"491.5\" y=\"-319.8\" font-family=\"Helvetica,sans-Serif\" font-size=\"14.00\">samples = 1000</text>\n",
       "<text text-anchor=\"start\" x=\"499\" y=\"-304.8\" font-family=\"Helvetica,sans-Serif\" font-size=\"14.00\">value = 0.514</text>\n",
       "</g>\n",
       "<!-- 1 -->\n",
       "<g id=\"node2\" class=\"node\">\n",
       "<title>1</title>\n",
       "<path fill=\"#fffefd\" stroke=\"black\" d=\"M521.5,-261C521.5,-261 380.5,-261 380.5,-261 374.5,-261 368.5,-255 368.5,-249 368.5,-249 368.5,-205 368.5,-205 368.5,-199 374.5,-193 380.5,-193 380.5,-193 521.5,-193 521.5,-193 527.5,-193 533.5,-199 533.5,-205 533.5,-205 533.5,-249 533.5,-249 533.5,-255 527.5,-261 521.5,-261\"/>\n",
       "<text text-anchor=\"start\" x=\"416\" y=\"-245.8\" font-family=\"Helvetica,sans-Serif\" font-size=\"14.00\">z ≤ 0.388</text>\n",
       "<text text-anchor=\"start\" x=\"376.5\" y=\"-230.8\" font-family=\"Helvetica,sans-Serif\" font-size=\"14.00\">squared_error = 0.01</text>\n",
       "<text text-anchor=\"start\" x=\"398\" y=\"-215.8\" font-family=\"Helvetica,sans-Serif\" font-size=\"14.00\">samples = 481</text>\n",
       "<text text-anchor=\"start\" x=\"405.5\" y=\"-200.8\" font-family=\"Helvetica,sans-Serif\" font-size=\"14.00\">value = 0.01</text>\n",
       "</g>\n",
       "<!-- 0&#45;&gt;1 -->\n",
       "<g id=\"edge1\" class=\"edge\">\n",
       "<title>0&#45;&gt;1</title>\n",
       "<path fill=\"none\" stroke=\"black\" d=\"M517.18,-296.88C508.54,-287.89 499.08,-278.04 490.08,-268.68\"/>\n",
       "<polygon fill=\"black\" stroke=\"black\" points=\"492.45,-266.09 482.99,-261.3 487.4,-270.94 492.45,-266.09\"/>\n",
       "<text text-anchor=\"middle\" x=\"482.49\" y=\"-282.59\" font-family=\"Helvetica,sans-Serif\" font-size=\"14.00\">True</text>\n",
       "</g>\n",
       "<!-- 6 -->\n",
       "<g id=\"node7\" class=\"node\">\n",
       "<title>6</title>\n",
       "<path fill=\"#e6833d\" stroke=\"black\" d=\"M716,-261C716,-261 566,-261 566,-261 560,-261 554,-255 554,-249 554,-249 554,-205 554,-205 554,-199 560,-193 566,-193 566,-193 716,-193 716,-193 722,-193 728,-199 728,-205 728,-205 728,-249 728,-249 728,-255 722,-261 716,-261\"/>\n",
       "<text text-anchor=\"start\" x=\"606\" y=\"-245.8\" font-family=\"Helvetica,sans-Serif\" font-size=\"14.00\">z ≤ 0.563</text>\n",
       "<text text-anchor=\"start\" x=\"562\" y=\"-230.8\" font-family=\"Helvetica,sans-Serif\" font-size=\"14.00\">squared_error = 0.019</text>\n",
       "<text text-anchor=\"start\" x=\"588\" y=\"-215.8\" font-family=\"Helvetica,sans-Serif\" font-size=\"14.00\">samples = 519</text>\n",
       "<text text-anchor=\"start\" x=\"591\" y=\"-200.8\" font-family=\"Helvetica,sans-Serif\" font-size=\"14.00\">value = 0.981</text>\n",
       "</g>\n",
       "<!-- 0&#45;&gt;6 -->\n",
       "<g id=\"edge6\" class=\"edge\">\n",
       "<title>0&#45;&gt;6</title>\n",
       "<path fill=\"none\" stroke=\"black\" d=\"M578.87,-296.88C586.9,-287.98 595.69,-278.24 604.06,-268.96\"/>\n",
       "<polygon fill=\"black\" stroke=\"black\" points=\"606.87,-271.07 610.97,-261.3 601.67,-266.38 606.87,-271.07\"/>\n",
       "<text text-anchor=\"middle\" x=\"612.25\" y=\"-282.57\" font-family=\"Helvetica,sans-Serif\" font-size=\"14.00\">False</text>\n",
       "</g>\n",
       "<!-- 2 -->\n",
       "<g id=\"node3\" class=\"node\">\n",
       "<title>2</title>\n",
       "<path fill=\"#fffefe\" stroke=\"black\" d=\"M336,-157C336,-157 186,-157 186,-157 180,-157 174,-151 174,-145 174,-145 174,-101 174,-101 174,-95 180,-89 186,-89 186,-89 336,-89 336,-89 342,-89 348,-95 348,-101 348,-101 348,-145 348,-145 348,-151 342,-157 336,-157\"/>\n",
       "<text text-anchor=\"start\" x=\"226\" y=\"-141.8\" font-family=\"Helvetica,sans-Serif\" font-size=\"14.00\">z ≤ 0.278</text>\n",
       "<text text-anchor=\"start\" x=\"182\" y=\"-126.8\" font-family=\"Helvetica,sans-Serif\" font-size=\"14.00\">squared_error = 0.004</text>\n",
       "<text text-anchor=\"start\" x=\"208\" y=\"-111.8\" font-family=\"Helvetica,sans-Serif\" font-size=\"14.00\">samples = 466</text>\n",
       "<text text-anchor=\"start\" x=\"211\" y=\"-96.8\" font-family=\"Helvetica,sans-Serif\" font-size=\"14.00\">value = 0.004</text>\n",
       "</g>\n",
       "<!-- 1&#45;&gt;2 -->\n",
       "<g id=\"edge2\" class=\"edge\">\n",
       "<title>1&#45;&gt;2</title>\n",
       "<path fill=\"none\" stroke=\"black\" d=\"M389.31,-192.88C370.88,-182.99 350.54,-172.07 331.59,-161.9\"/>\n",
       "<polygon fill=\"black\" stroke=\"black\" points=\"333.17,-158.77 322.7,-157.12 329.86,-164.94 333.17,-158.77\"/>\n",
       "</g>\n",
       "<!-- 5 -->\n",
       "<g id=\"node6\" class=\"node\">\n",
       "<title>5</title>\n",
       "<path fill=\"#fae6d7\" stroke=\"black\" d=\"M521.5,-149.5C521.5,-149.5 380.5,-149.5 380.5,-149.5 374.5,-149.5 368.5,-143.5 368.5,-137.5 368.5,-137.5 368.5,-108.5 368.5,-108.5 368.5,-102.5 374.5,-96.5 380.5,-96.5 380.5,-96.5 521.5,-96.5 521.5,-96.5 527.5,-96.5 533.5,-102.5 533.5,-108.5 533.5,-108.5 533.5,-137.5 533.5,-137.5 533.5,-143.5 527.5,-149.5 521.5,-149.5\"/>\n",
       "<text text-anchor=\"start\" x=\"376.5\" y=\"-134.3\" font-family=\"Helvetica,sans-Serif\" font-size=\"14.00\">squared_error = 0.16</text>\n",
       "<text text-anchor=\"start\" x=\"402.5\" y=\"-119.3\" font-family=\"Helvetica,sans-Serif\" font-size=\"14.00\">samples = 15</text>\n",
       "<text text-anchor=\"start\" x=\"410\" y=\"-104.3\" font-family=\"Helvetica,sans-Serif\" font-size=\"14.00\">value = 0.2</text>\n",
       "</g>\n",
       "<!-- 1&#45;&gt;5 -->\n",
       "<g id=\"edge5\" class=\"edge\">\n",
       "<title>1&#45;&gt;5</title>\n",
       "<path fill=\"none\" stroke=\"black\" d=\"M451,-192.88C451,-182.33 451,-170.6 451,-159.85\"/>\n",
       "<polygon fill=\"black\" stroke=\"black\" points=\"454.5,-159.52 451,-149.52 447.5,-159.52 454.5,-159.52\"/>\n",
       "</g>\n",
       "<!-- 3 -->\n",
       "<g id=\"node4\" class=\"node\">\n",
       "<title>3</title>\n",
       "<path fill=\"#ffffff\" stroke=\"black\" d=\"M144,-53C144,-53 12,-53 12,-53 6,-53 0,-47 0,-41 0,-41 0,-12 0,-12 0,-6 6,0 12,0 12,0 144,0 144,0 150,0 156,-6 156,-12 156,-12 156,-41 156,-41 156,-47 150,-53 144,-53\"/>\n",
       "<text text-anchor=\"start\" x=\"8\" y=\"-37.8\" font-family=\"Helvetica,sans-Serif\" font-size=\"14.00\">squared_error = 0.0</text>\n",
       "<text text-anchor=\"start\" x=\"25\" y=\"-22.8\" font-family=\"Helvetica,sans-Serif\" font-size=\"14.00\">samples = 416</text>\n",
       "<text text-anchor=\"start\" x=\"37\" y=\"-7.8\" font-family=\"Helvetica,sans-Serif\" font-size=\"14.00\">value = 0.0</text>\n",
       "</g>\n",
       "<!-- 2&#45;&gt;3 -->\n",
       "<g id=\"edge3\" class=\"edge\">\n",
       "<title>2&#45;&gt;3</title>\n",
       "<path fill=\"none\" stroke=\"black\" d=\"M197,-88.95C177.33,-78.79 155.8,-67.67 136.52,-57.72\"/>\n",
       "<polygon fill=\"black\" stroke=\"black\" points=\"138.04,-54.57 127.55,-53.09 134.83,-60.78 138.04,-54.57\"/>\n",
       "</g>\n",
       "<!-- 4 -->\n",
       "<g id=\"node5\" class=\"node\">\n",
       "<title>4</title>\n",
       "<path fill=\"#fefaf7\" stroke=\"black\" d=\"M336,-53C336,-53 186,-53 186,-53 180,-53 174,-47 174,-41 174,-41 174,-12 174,-12 174,-6 180,0 186,0 186,0 336,0 336,0 342,0 348,-6 348,-12 348,-12 348,-41 348,-41 348,-47 342,-53 336,-53\"/>\n",
       "<text text-anchor=\"start\" x=\"182\" y=\"-37.8\" font-family=\"Helvetica,sans-Serif\" font-size=\"14.00\">squared_error = 0.038</text>\n",
       "<text text-anchor=\"start\" x=\"212.5\" y=\"-22.8\" font-family=\"Helvetica,sans-Serif\" font-size=\"14.00\">samples = 50</text>\n",
       "<text text-anchor=\"start\" x=\"215.5\" y=\"-7.8\" font-family=\"Helvetica,sans-Serif\" font-size=\"14.00\">value = 0.04</text>\n",
       "</g>\n",
       "<!-- 2&#45;&gt;4 -->\n",
       "<g id=\"edge4\" class=\"edge\">\n",
       "<title>2&#45;&gt;4</title>\n",
       "<path fill=\"none\" stroke=\"black\" d=\"M261,-88.95C261,-80.72 261,-71.85 261,-63.48\"/>\n",
       "<polygon fill=\"black\" stroke=\"black\" points=\"264.5,-63.24 261,-53.24 257.5,-63.24 264.5,-63.24\"/>\n",
       "</g>\n",
       "<!-- 7 -->\n",
       "<g id=\"node8\" class=\"node\">\n",
       "<title>7</title>\n",
       "<path fill=\"#eda876\" stroke=\"black\" d=\"M716,-157C716,-157 566,-157 566,-157 560,-157 554,-151 554,-145 554,-145 554,-101 554,-101 554,-95 560,-89 566,-89 566,-89 716,-89 716,-89 722,-89 728,-95 728,-101 728,-101 728,-145 728,-145 728,-151 722,-157 716,-157\"/>\n",
       "<text text-anchor=\"start\" x=\"606\" y=\"-141.8\" font-family=\"Helvetica,sans-Serif\" font-size=\"14.00\">z ≤ 0.491</text>\n",
       "<text text-anchor=\"start\" x=\"562\" y=\"-126.8\" font-family=\"Helvetica,sans-Serif\" font-size=\"14.00\">squared_error = 0.213</text>\n",
       "<text text-anchor=\"start\" x=\"592.5\" y=\"-111.8\" font-family=\"Helvetica,sans-Serif\" font-size=\"14.00\">samples = 26</text>\n",
       "<text text-anchor=\"start\" x=\"591\" y=\"-96.8\" font-family=\"Helvetica,sans-Serif\" font-size=\"14.00\">value = 0.692</text>\n",
       "</g>\n",
       "<!-- 6&#45;&gt;7 -->\n",
       "<g id=\"edge7\" class=\"edge\">\n",
       "<title>6&#45;&gt;7</title>\n",
       "<path fill=\"none\" stroke=\"black\" d=\"M641,-192.88C641,-184.78 641,-175.98 641,-167.47\"/>\n",
       "<polygon fill=\"black\" stroke=\"black\" points=\"644.5,-167.3 641,-157.3 637.5,-167.3 644.5,-167.3\"/>\n",
       "</g>\n",
       "<!-- 10 -->\n",
       "<g id=\"node11\" class=\"node\">\n",
       "<title>10</title>\n",
       "<path fill=\"#e5823a\" stroke=\"black\" d=\"M912,-157C912,-157 762,-157 762,-157 756,-157 750,-151 750,-145 750,-145 750,-101 750,-101 750,-95 756,-89 762,-89 762,-89 912,-89 912,-89 918,-89 924,-95 924,-101 924,-101 924,-145 924,-145 924,-151 918,-157 912,-157\"/>\n",
       "<text text-anchor=\"start\" x=\"802\" y=\"-141.8\" font-family=\"Helvetica,sans-Serif\" font-size=\"14.00\">z ≤ 0.801</text>\n",
       "<text text-anchor=\"start\" x=\"758\" y=\"-126.8\" font-family=\"Helvetica,sans-Serif\" font-size=\"14.00\">squared_error = 0.004</text>\n",
       "<text text-anchor=\"start\" x=\"784\" y=\"-111.8\" font-family=\"Helvetica,sans-Serif\" font-size=\"14.00\">samples = 493</text>\n",
       "<text text-anchor=\"start\" x=\"787\" y=\"-96.8\" font-family=\"Helvetica,sans-Serif\" font-size=\"14.00\">value = 0.996</text>\n",
       "</g>\n",
       "<!-- 6&#45;&gt;10 -->\n",
       "<g id=\"edge10\" class=\"edge\">\n",
       "<title>6&#45;&gt;10</title>\n",
       "<path fill=\"none\" stroke=\"black\" d=\"M704.64,-192.88C723.73,-182.95 744.82,-171.97 764.45,-161.76\"/>\n",
       "<polygon fill=\"black\" stroke=\"black\" points=\"766.09,-164.85 773.35,-157.12 762.86,-158.64 766.09,-164.85\"/>\n",
       "</g>\n",
       "<!-- 8 -->\n",
       "<g id=\"node9\" class=\"node\">\n",
       "<title>8</title>\n",
       "<path fill=\"#efb185\" stroke=\"black\" d=\"M528,-53C528,-53 378,-53 378,-53 372,-53 366,-47 366,-41 366,-41 366,-12 366,-12 366,-6 372,0 378,0 378,0 528,0 528,0 534,0 540,-6 540,-12 540,-12 540,-41 540,-41 540,-47 534,-53 528,-53\"/>\n",
       "<text text-anchor=\"start\" x=\"374\" y=\"-37.8\" font-family=\"Helvetica,sans-Serif\" font-size=\"14.00\">squared_error = 0.237</text>\n",
       "<text text-anchor=\"start\" x=\"404.5\" y=\"-22.8\" font-family=\"Helvetica,sans-Serif\" font-size=\"14.00\">samples = 13</text>\n",
       "<text text-anchor=\"start\" x=\"403\" y=\"-7.8\" font-family=\"Helvetica,sans-Serif\" font-size=\"14.00\">value = 0.615</text>\n",
       "</g>\n",
       "<!-- 7&#45;&gt;8 -->\n",
       "<g id=\"edge8\" class=\"edge\">\n",
       "<title>7&#45;&gt;8</title>\n",
       "<path fill=\"none\" stroke=\"black\" d=\"M575.25,-88.95C554.95,-78.75 532.72,-67.57 512.85,-57.59\"/>\n",
       "<polygon fill=\"black\" stroke=\"black\" points=\"514.41,-54.45 503.9,-53.09 511.27,-60.71 514.41,-54.45\"/>\n",
       "</g>\n",
       "<!-- 9 -->\n",
       "<g id=\"node10\" class=\"node\">\n",
       "<title>9</title>\n",
       "<path fill=\"#eb9e67\" stroke=\"black\" d=\"M720,-53C720,-53 570,-53 570,-53 564,-53 558,-47 558,-41 558,-41 558,-12 558,-12 558,-6 564,0 570,0 570,0 720,0 720,0 726,0 732,-6 732,-12 732,-12 732,-41 732,-41 732,-47 726,-53 720,-53\"/>\n",
       "<text text-anchor=\"start\" x=\"566\" y=\"-37.8\" font-family=\"Helvetica,sans-Serif\" font-size=\"14.00\">squared_error = 0.178</text>\n",
       "<text text-anchor=\"start\" x=\"596.5\" y=\"-22.8\" font-family=\"Helvetica,sans-Serif\" font-size=\"14.00\">samples = 13</text>\n",
       "<text text-anchor=\"start\" x=\"595\" y=\"-7.8\" font-family=\"Helvetica,sans-Serif\" font-size=\"14.00\">value = 0.769</text>\n",
       "</g>\n",
       "<!-- 7&#45;&gt;9 -->\n",
       "<g id=\"edge9\" class=\"edge\">\n",
       "<title>7&#45;&gt;9</title>\n",
       "<path fill=\"none\" stroke=\"black\" d=\"M642.4,-88.95C642.75,-80.72 643.12,-71.85 643.48,-63.48\"/>\n",
       "<polygon fill=\"black\" stroke=\"black\" points=\"646.98,-63.38 643.91,-53.24 639.99,-63.08 646.98,-63.38\"/>\n",
       "</g>\n",
       "<!-- 11 -->\n",
       "<g id=\"node12\" class=\"node\">\n",
       "<title>11</title>\n",
       "<path fill=\"#e5833c\" stroke=\"black\" d=\"M912,-53C912,-53 762,-53 762,-53 756,-53 750,-47 750,-41 750,-41 750,-12 750,-12 750,-6 756,0 762,0 762,0 912,0 912,0 918,0 924,-6 924,-12 924,-12 924,-41 924,-41 924,-47 918,-53 912,-53\"/>\n",
       "<text text-anchor=\"start\" x=\"758\" y=\"-37.8\" font-family=\"Helvetica,sans-Serif\" font-size=\"14.00\">squared_error = 0.017</text>\n",
       "<text text-anchor=\"start\" x=\"784\" y=\"-22.8\" font-family=\"Helvetica,sans-Serif\" font-size=\"14.00\">samples = 118</text>\n",
       "<text text-anchor=\"start\" x=\"787\" y=\"-7.8\" font-family=\"Helvetica,sans-Serif\" font-size=\"14.00\">value = 0.983</text>\n",
       "</g>\n",
       "<!-- 10&#45;&gt;11 -->\n",
       "<g id=\"edge11\" class=\"edge\">\n",
       "<title>10&#45;&gt;11</title>\n",
       "<path fill=\"none\" stroke=\"black\" d=\"M837,-88.95C837,-80.72 837,-71.85 837,-63.48\"/>\n",
       "<polygon fill=\"black\" stroke=\"black\" points=\"840.5,-63.24 837,-53.24 833.5,-63.24 840.5,-63.24\"/>\n",
       "</g>\n",
       "<!-- 12 -->\n",
       "<g id=\"node13\" class=\"node\">\n",
       "<title>12</title>\n",
       "<path fill=\"#e58139\" stroke=\"black\" d=\"M1086,-53C1086,-53 954,-53 954,-53 948,-53 942,-47 942,-41 942,-41 942,-12 942,-12 942,-6 948,0 954,0 954,0 1086,0 1086,0 1092,0 1098,-6 1098,-12 1098,-12 1098,-41 1098,-41 1098,-47 1092,-53 1086,-53\"/>\n",
       "<text text-anchor=\"start\" x=\"950\" y=\"-37.8\" font-family=\"Helvetica,sans-Serif\" font-size=\"14.00\">squared_error = 0.0</text>\n",
       "<text text-anchor=\"start\" x=\"967\" y=\"-22.8\" font-family=\"Helvetica,sans-Serif\" font-size=\"14.00\">samples = 375</text>\n",
       "<text text-anchor=\"start\" x=\"979\" y=\"-7.8\" font-family=\"Helvetica,sans-Serif\" font-size=\"14.00\">value = 1.0</text>\n",
       "</g>\n",
       "<!-- 10&#45;&gt;12 -->\n",
       "<g id=\"edge12\" class=\"edge\">\n",
       "<title>10&#45;&gt;12</title>\n",
       "<path fill=\"none\" stroke=\"black\" d=\"M901,-88.95C920.67,-78.79 942.2,-67.67 961.48,-57.72\"/>\n",
       "<polygon fill=\"black\" stroke=\"black\" points=\"963.17,-60.78 970.45,-53.09 959.96,-54.57 963.17,-60.78\"/>\n",
       "</g>\n",
       "</g>\n",
       "</svg>\n"
      ],
      "text/plain": [
       "<graphviz.sources.Source at 0x7f85cbee1b80>"
      ]
     },
     "execution_count": 32,
     "metadata": {},
     "output_type": "execute_result"
    }
   ],
   "source": [
    "decision_tree_regressor = calibrators['DT'].tree\n",
    "from sklearn.tree import export_graphviz\n",
    "import graphviz\n",
    "\n",
    "dot_data = export_graphviz(decision_tree_regressor, out_file=None,\n",
    "                            feature_names=['z'],\n",
    "                            filled=True, rounded=True,\n",
    "                            special_characters=True)\n",
    "graph = graphviz.Source(dot_data)\n",
    "graph"
   ]
  }
 ],
 "metadata": {
  "kernelspec": {
   "display_name": "Python 3 (ipykernel)",
   "language": "python",
   "name": "python3"
  },
  "language_info": {
   "codemirror_mode": {
    "name": "ipython",
    "version": 3
   },
   "file_extension": ".py",
   "mimetype": "text/x-python",
   "name": "python",
   "nbconvert_exporter": "python",
   "pygments_lexer": "ipython3",
   "version": "3.9.12"
  }
 },
 "nbformat": 4,
 "nbformat_minor": 4
}
