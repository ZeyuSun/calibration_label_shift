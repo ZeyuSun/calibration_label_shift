{
 "cells": [
  {
   "cell_type": "code",
   "execution_count": null,
   "id": "4a8134f3-5f1f-48f4-8401-c8a632a1daeb",
   "metadata": {},
   "outputs": [],
   "source": [
    "* Chirag: https://github.com/aigen/df-posthoc-calibration"
   ]
  },
  {
   "cell_type": "markdown",
   "id": "1c359e2f-9ee4-44c3-9125-076350f0ee67",
   "metadata": {},
   "source": [
    "* Plan\n",
    "    * Simulation settings\n",
    "    * Scaling, temprature\n",
    "    * Hist, isotonic reg, regression\n",
    "* "
   ]
  }
 ],
 "metadata": {
  "kernelspec": {
   "display_name": "Python 3 (ipykernel)",
   "language": "python",
   "name": "python3"
  },
  "language_info": {
   "codemirror_mode": {
    "name": "ipython",
    "version": 3
   },
   "file_extension": ".py",
   "mimetype": "text/x-python",
   "name": "python",
   "nbconvert_exporter": "python",
   "pygments_lexer": "ipython3",
   "version": "3.9.12"
  }
 },
 "nbformat": 4,
 "nbformat_minor": 5
}
