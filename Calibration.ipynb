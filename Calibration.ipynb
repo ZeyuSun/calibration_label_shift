{
 "cells": [
  {
   "cell_type": "markdown",
   "metadata": {},
   "source": [
    "# Calibration Simulation"
   ]
  },
  {
   "cell_type": "code",
   "execution_count": 1,
   "metadata": {
    "execution": {
     "iopub.execute_input": "2023-10-07T03:55:30.622573Z",
     "iopub.status.busy": "2023-10-07T03:55:30.622192Z",
     "iopub.status.idle": "2023-10-07T03:55:31.733667Z",
     "shell.execute_reply": "2023-10-07T03:55:31.733223Z",
     "shell.execute_reply.started": "2023-10-07T03:55:30.622508Z"
    }
   },
   "outputs": [],
   "source": [
    "import numpy as np\n",
    "from matplotlib import pyplot as plt\n",
    "from plotly import express as px\n",
    "import plotly.io as pio\n",
    "pio.kaleido.scope.mathjax = None  # https://github.com/plotly/plotly.py/issues/3469\n",
    "from tqdm.auto import tqdm\n",
    "from calibration import HistogramCalibrator, ScalingBinningCalibrator, OracleCalibrator, BinnedOracleCalibrator, PlattCalibrator, IsotonicCalibrator\n",
    "from simulation_calibration import GaussianMixtureSimulation, BetaCalibrationSimulation, evaluate\n",
    "%load_ext autoreload\n",
    "%autoreload 2"
   ]
  },
  {
   "cell_type": "markdown",
   "metadata": {},
   "source": [
    "## Appendix E.1. Verifying risk bounds of UMB"
   ]
  },
  {
   "cell_type": "code",
   "execution_count": 2,
   "metadata": {},
   "outputs": [],
   "source": [
    "sim = GaussianMixtureSimulation()\n",
    "df = sim.run()"
   ]
  },
  {
   "cell_type": "code",
   "execution_count": 3,
   "metadata": {},
   "outputs": [
    {
     "data": {
      "image/png": "[encoded data removed]",
      "text/plain": [
       "<Figure size 432x288 with 1 Axes>"
      ]
     },
     "metadata": {
      "needs_background": "light"
     },
     "output_type": "display_data"
    },
    {
     "data": {
      "image/png": "[encoded data removed]",
      "text/plain": [
       "<Figure size 432x288 with 1 Axes>"
      ]
     },
     "metadata": {
      "needs_background": "light"
     },
     "output_type": "display_data"
    }
   ],
   "source": [
    "zz = np.linspace(0, 1, 100)\n",
    "plt.plot(zz, sim.pz(zz), label='p(z)')\n",
    "plt.plot(zz, sim.py_given_z(zz), label='p(y=1|z)')\n",
    "plt.legend()\n",
    "plt.title('Population: marginal and conditional distributions')\n",
    "plt.show()\n",
    "\n",
    "z, y = sim.generate_data(1000)\n",
    "x = sim.f_inv(z)\n",
    "plt.hist([x[y==0], x[y==1]], histtype='step', stacked=False, bins=20)\n",
    "plt.title('Sample: histogram of x for y=0 and y=1')\n",
    "plt.show()"
   ]
  },
  {
   "cell_type": "code",
   "execution_count": 4,
   "metadata": {},
   "outputs": [
    {
     "data": {
      "text/html": [
       "<div>\n",
       "<style scoped>\n",
       "    .dataframe tbody tr th:only-of-type {\n",
       "        vertical-align: middle;\n",
       "    }\n",
       "\n",
       "    .dataframe tbody tr th {\n",
       "        vertical-align: top;\n",
       "    }\n",
       "\n",
       "    .dataframe thead th {\n",
       "        text-align: right;\n",
       "    }\n",
       "</style>\n",
       "<table border=\"1\" class=\"dataframe\">\n",
       "  <thead>\n",
       "    <tr style=\"text-align: right;\">\n",
       "      <th></th>\n",
       "      <th>cal</th>\n",
       "      <th>sha</th>\n",
       "      <th>ref</th>\n",
       "      <th>risk</th>\n",
       "      <th>bs</th>\n",
       "      <th>n</th>\n",
       "      <th>B</th>\n",
       "      <th>i</th>\n",
       "    </tr>\n",
       "  </thead>\n",
       "  <tbody>\n",
       "    <tr>\n",
       "      <th>0</th>\n",
       "      <td>0.001179</td>\n",
       "      <td>3.534171e-03</td>\n",
       "      <td>0.00251</td>\n",
       "      <td>0.004714</td>\n",
       "      <td>0.007224</td>\n",
       "      <td>100</td>\n",
       "      <td>6</td>\n",
       "      <td>0</td>\n",
       "    </tr>\n",
       "    <tr>\n",
       "      <th>1</th>\n",
       "      <td>0.002162</td>\n",
       "      <td>1.804147e-02</td>\n",
       "      <td>0.00251</td>\n",
       "      <td>0.020204</td>\n",
       "      <td>0.022714</td>\n",
       "      <td>100</td>\n",
       "      <td>6</td>\n",
       "      <td>1</td>\n",
       "    </tr>\n",
       "    <tr>\n",
       "      <th>2</th>\n",
       "      <td>0.002611</td>\n",
       "      <td>2.849727e-02</td>\n",
       "      <td>0.00251</td>\n",
       "      <td>0.031108</td>\n",
       "      <td>0.033619</td>\n",
       "      <td>100</td>\n",
       "      <td>6</td>\n",
       "      <td>2</td>\n",
       "    </tr>\n",
       "    <tr>\n",
       "      <th>3</th>\n",
       "      <td>0.000839</td>\n",
       "      <td>2.139180e-02</td>\n",
       "      <td>0.00251</td>\n",
       "      <td>0.022230</td>\n",
       "      <td>0.024741</td>\n",
       "      <td>100</td>\n",
       "      <td>6</td>\n",
       "      <td>3</td>\n",
       "    </tr>\n",
       "    <tr>\n",
       "      <th>4</th>\n",
       "      <td>0.000065</td>\n",
       "      <td>2.576667e-02</td>\n",
       "      <td>0.00251</td>\n",
       "      <td>0.025832</td>\n",
       "      <td>0.028342</td>\n",
       "      <td>100</td>\n",
       "      <td>6</td>\n",
       "      <td>4</td>\n",
       "    </tr>\n",
       "    <tr>\n",
       "      <th>...</th>\n",
       "      <td>...</td>\n",
       "      <td>...</td>\n",
       "      <td>...</td>\n",
       "      <td>...</td>\n",
       "      <td>...</td>\n",
       "      <td>...</td>\n",
       "      <td>...</td>\n",
       "      <td>...</td>\n",
       "    </tr>\n",
       "    <tr>\n",
       "      <th>695</th>\n",
       "      <td>0.000001</td>\n",
       "      <td>9.516113e-07</td>\n",
       "      <td>0.00251</td>\n",
       "      <td>0.000002</td>\n",
       "      <td>0.002513</td>\n",
       "      <td>10000000</td>\n",
       "      <td>1000</td>\n",
       "      <td>5</td>\n",
       "    </tr>\n",
       "    <tr>\n",
       "      <th>696</th>\n",
       "      <td>0.000002</td>\n",
       "      <td>1.055883e-06</td>\n",
       "      <td>0.00251</td>\n",
       "      <td>0.000003</td>\n",
       "      <td>0.002514</td>\n",
       "      <td>10000000</td>\n",
       "      <td>1000</td>\n",
       "      <td>6</td>\n",
       "    </tr>\n",
       "    <tr>\n",
       "      <th>697</th>\n",
       "      <td>0.000001</td>\n",
       "      <td>9.338333e-07</td>\n",
       "      <td>0.00251</td>\n",
       "      <td>0.000002</td>\n",
       "      <td>0.002513</td>\n",
       "      <td>10000000</td>\n",
       "      <td>1000</td>\n",
       "      <td>7</td>\n",
       "    </tr>\n",
       "    <tr>\n",
       "      <th>698</th>\n",
       "      <td>0.000001</td>\n",
       "      <td>9.895469e-07</td>\n",
       "      <td>0.00251</td>\n",
       "      <td>0.000002</td>\n",
       "      <td>0.002513</td>\n",
       "      <td>10000000</td>\n",
       "      <td>1000</td>\n",
       "      <td>8</td>\n",
       "    </tr>\n",
       "    <tr>\n",
       "      <th>699</th>\n",
       "      <td>0.000002</td>\n",
       "      <td>8.869299e-07</td>\n",
       "      <td>0.00251</td>\n",
       "      <td>0.000003</td>\n",
       "      <td>0.002514</td>\n",
       "      <td>10000000</td>\n",
       "      <td>1000</td>\n",
       "      <td>9</td>\n",
       "    </tr>\n",
       "  </tbody>\n",
       "</table>\n",
       "<p>700 rows × 8 columns</p>\n",
       "</div>"
      ],
      "text/plain": [
       "          cal           sha      ref      risk        bs         n     B  i\n",
       "0    0.001179  3.534171e-03  0.00251  0.004714  0.007224       100     6  0\n",
       "1    0.002162  1.804147e-02  0.00251  0.020204  0.022714       100     6  1\n",
       "2    0.002611  2.849727e-02  0.00251  0.031108  0.033619       100     6  2\n",
       "3    0.000839  2.139180e-02  0.00251  0.022230  0.024741       100     6  3\n",
       "4    0.000065  2.576667e-02  0.00251  0.025832  0.028342       100     6  4\n",
       "..        ...           ...      ...       ...       ...       ...   ... ..\n",
       "695  0.000001  9.516113e-07  0.00251  0.000002  0.002513  10000000  1000  5\n",
       "696  0.000002  1.055883e-06  0.00251  0.000003  0.002514  10000000  1000  6\n",
       "697  0.000001  9.338333e-07  0.00251  0.000002  0.002513  10000000  1000  7\n",
       "698  0.000001  9.895469e-07  0.00251  0.000002  0.002513  10000000  1000  8\n",
       "699  0.000002  8.869299e-07  0.00251  0.000003  0.002514  10000000  1000  9\n",
       "\n",
       "[700 rows x 8 columns]"
      ]
     },
     "execution_count": 4,
     "metadata": {},
     "output_type": "execute_result"
    }
   ],
   "source": [
    "df"
   ]
  },
  {
   "cell_type": "code",
   "execution_count": 5,
   "metadata": {},
   "outputs": [
    {
     "name": "stdout",
     "output_type": "stream",
     "text": [
      "cal vs. B 0.9833785041197238\n",
      "cal vs. n -0.9886262835902907\n",
      "sha vs. B -1.8311808737753643\n"
     ]
    },
    {
     "data": {
      "image/png": "[encoded data removed]",
      "text/plain": [
       "<Figure size 180x180 with 1 Axes>"
      ]
     },
     "metadata": {
      "needs_background": "light"
     },
     "output_type": "display_data"
    },
    {
     "data": {
      "image/png": "[encoded data removed]",
      "text/plain": [
       "<Figure size 180x180 with 1 Axes>"
      ]
     },
     "metadata": {
      "needs_background": "light"
     },
     "output_type": "display_data"
    },
    {
     "data": {
      "image/png": "[encoded data removed]",
      "text/plain": [
       "<Figure size 180x180 with 1 Axes>"
      ]
     },
     "metadata": {
      "needs_background": "light"
     },
     "output_type": "display_data"
    },
    {
     "data": {
      "image/png": "[encoded data removed]",
      "text/plain": [
       "<Figure size 180x180 with 1 Axes>"
      ]
     },
     "metadata": {
      "needs_background": "light"
     },
     "output_type": "display_data"
    },
    {
     "data": {
      "image/png": "[encoded data removed]",
      "text/plain": [
       "<Figure size 180x180 with 1 Axes>"
      ]
     },
     "metadata": {
      "needs_background": "light"
     },
     "output_type": "display_data"
    },
    {
     "data": {
      "image/png": "[encoded data removed]",
      "text/plain": [
       "<Figure size 180x180 with 1 Axes>"
      ]
     },
     "metadata": {
      "needs_background": "light"
     },
     "output_type": "display_data"
    },
    {
     "data": {
      "text/plain": [
       "<Figure size 180x180 with 0 Axes>"
      ]
     },
     "metadata": {},
     "output_type": "display_data"
    },
    {
     "data": {
      "image/png": "[encoded data removed]",
      "text/plain": [
       "<Figure size 180x180 with 1 Axes>"
      ]
     },
     "metadata": {
      "needs_background": "light"
     },
     "output_type": "display_data"
    },
    {
     "data": {
      "image/png": "[encoded data removed]",
      "text/plain": [
       "<Figure size 180x180 with 1 Axes>"
      ]
     },
     "metadata": {
      "needs_background": "light"
     },
     "output_type": "display_data"
    },
    {
     "data": {
      "image/png": "[encoded data removed]",
      "text/plain": [
       "<Figure size 180x180 with 2 Axes>"
      ]
     },
     "metadata": {
      "needs_background": "light"
     },
     "output_type": "display_data"
    }
   ],
   "source": [
    "sim.plot(df)"
   ]
  },
  {
   "cell_type": "markdown",
   "metadata": {},
   "source": [
    "## Appendix E.2. Compare with other recalibration methods\n",
    "Methods: Platt Scaling, Scaling-binning (Kumar'19), UWB, and UMB"
   ]
  },
  {
   "cell_type": "markdown",
   "metadata": {},
   "source": [
    "### Simulation 1: Mixture of Gaussians (ommited in the paper)\n",
    "$$\n",
    "    \\begin{aligned}\n",
    "    Y &\\sim \\text{Bernoulli}(0.5), \\\\\n",
    "    X \\mid Y=0 &\\sim \\mathcal{N}(-2, 1), \\\\\n",
    "    X \\mid Y=1 &\\sim \\mathcal{N}(2, 1), \\\\\n",
    "    Z &= \\text{sigmoid}(X).\n",
    "    \\end{aligned}\n",
    "$$\n"
   ]
  },
  {
   "cell_type": "code",
   "execution_count": 6,
   "metadata": {},
   "outputs": [
    {
     "data": {
      "text/html": [
       "<div>\n",
       "<style scoped>\n",
       "    .dataframe tbody tr th:only-of-type {\n",
       "        vertical-align: middle;\n",
       "    }\n",
       "\n",
       "    .dataframe tbody tr th {\n",
       "        vertical-align: top;\n",
       "    }\n",
       "\n",
       "    .dataframe thead th {\n",
       "        text-align: right;\n",
       "    }\n",
       "</style>\n",
       "<table border=\"1\" class=\"dataframe\">\n",
       "  <thead>\n",
       "    <tr style=\"text-align: right;\">\n",
       "      <th></th>\n",
       "      <th>Calibrator</th>\n",
       "      <th>Metric</th>\n",
       "      <th>Value</th>\n",
       "      <th>n</th>\n",
       "      <th>B</th>\n",
       "      <th>i</th>\n",
       "    </tr>\n",
       "  </thead>\n",
       "  <tbody>\n",
       "    <tr>\n",
       "      <th>0</th>\n",
       "      <td>Optimal</td>\n",
       "      <td>cal</td>\n",
       "      <td>0.000000e+00</td>\n",
       "      <td>5000</td>\n",
       "      <td>10</td>\n",
       "      <td>0</td>\n",
       "    </tr>\n",
       "    <tr>\n",
       "      <th>1</th>\n",
       "      <td>Optimal</td>\n",
       "      <td>sha</td>\n",
       "      <td>0.000000e+00</td>\n",
       "      <td>5000</td>\n",
       "      <td>10</td>\n",
       "      <td>0</td>\n",
       "    </tr>\n",
       "    <tr>\n",
       "      <th>2</th>\n",
       "      <td>Optimal</td>\n",
       "      <td>ref</td>\n",
       "      <td>2.510403e-03</td>\n",
       "      <td>5000</td>\n",
       "      <td>10</td>\n",
       "      <td>0</td>\n",
       "    </tr>\n",
       "    <tr>\n",
       "      <th>3</th>\n",
       "      <td>Optimal</td>\n",
       "      <td>risk</td>\n",
       "      <td>0.000000e+00</td>\n",
       "      <td>5000</td>\n",
       "      <td>10</td>\n",
       "      <td>0</td>\n",
       "    </tr>\n",
       "    <tr>\n",
       "      <th>4</th>\n",
       "      <td>Optimal</td>\n",
       "      <td>bs</td>\n",
       "      <td>2.510403e-03</td>\n",
       "      <td>5000</td>\n",
       "      <td>10</td>\n",
       "      <td>0</td>\n",
       "    </tr>\n",
       "    <tr>\n",
       "      <th>...</th>\n",
       "      <td>...</td>\n",
       "      <td>...</td>\n",
       "      <td>...</td>\n",
       "      <td>...</td>\n",
       "      <td>...</td>\n",
       "      <td>...</td>\n",
       "    </tr>\n",
       "    <tr>\n",
       "      <th>170</th>\n",
       "      <td>UMB</td>\n",
       "      <td>cal</td>\n",
       "      <td>4.896681e-03</td>\n",
       "      <td>5000</td>\n",
       "      <td>1995</td>\n",
       "      <td>0</td>\n",
       "    </tr>\n",
       "    <tr>\n",
       "      <th>171</th>\n",
       "      <td>UMB</td>\n",
       "      <td>sha</td>\n",
       "      <td>4.949775e-07</td>\n",
       "      <td>5000</td>\n",
       "      <td>1995</td>\n",
       "      <td>0</td>\n",
       "    </tr>\n",
       "    <tr>\n",
       "      <th>172</th>\n",
       "      <td>UMB</td>\n",
       "      <td>ref</td>\n",
       "      <td>2.510403e-03</td>\n",
       "      <td>5000</td>\n",
       "      <td>1995</td>\n",
       "      <td>0</td>\n",
       "    </tr>\n",
       "    <tr>\n",
       "      <th>173</th>\n",
       "      <td>UMB</td>\n",
       "      <td>risk</td>\n",
       "      <td>4.897176e-03</td>\n",
       "      <td>5000</td>\n",
       "      <td>1995</td>\n",
       "      <td>0</td>\n",
       "    </tr>\n",
       "    <tr>\n",
       "      <th>174</th>\n",
       "      <td>UMB</td>\n",
       "      <td>bs</td>\n",
       "      <td>7.407579e-03</td>\n",
       "      <td>5000</td>\n",
       "      <td>1995</td>\n",
       "      <td>0</td>\n",
       "    </tr>\n",
       "  </tbody>\n",
       "</table>\n",
       "<p>175 rows × 6 columns</p>\n",
       "</div>"
      ],
      "text/plain": [
       "    Calibrator Metric         Value     n     B  i\n",
       "0      Optimal    cal  0.000000e+00  5000    10  0\n",
       "1      Optimal    sha  0.000000e+00  5000    10  0\n",
       "2      Optimal    ref  2.510403e-03  5000    10  0\n",
       "3      Optimal   risk  0.000000e+00  5000    10  0\n",
       "4      Optimal     bs  2.510403e-03  5000    10  0\n",
       "..         ...    ...           ...   ...   ... ..\n",
       "170        UMB    cal  4.896681e-03  5000  1995  0\n",
       "171        UMB    sha  4.949775e-07  5000  1995  0\n",
       "172        UMB    ref  2.510403e-03  5000  1995  0\n",
       "173        UMB   risk  4.897176e-03  5000  1995  0\n",
       "174        UMB     bs  7.407579e-03  5000  1995  0\n",
       "\n",
       "[175 rows x 6 columns]"
      ]
     },
     "execution_count": 6,
     "metadata": {},
     "output_type": "execute_result"
    }
   ],
   "source": [
    "n = 5000\n",
    "sim = GaussianMixtureSimulation()\n",
    "df = sim.run_calibrators_asymp(n_list=[n], B_list=np.logspace(1, 3.3, 7, dtype=int), i_list=np.arange(1))\n",
    "df"
   ]
  },
  {
   "cell_type": "code",
   "execution_count": 7,
   "metadata": {},
   "outputs": [
    {
     "data": {
      "application/vnd.plotly.v1+json": {
       "config": {
        "plotlyServerURL": "https://plot.ly"
       },
       "data": [
        {
         "hovertemplate": "Calibrator=Platt<br>Metric=cal<br>B=%{x}<br>Value=%{y}<extra></extra>",
         "legendgroup": "Platt",
         "line": {
          "color": "#636efa",
          "dash": "solid"
         },
         "marker": {
          "symbol": "circle"
         },
         "mode": "lines+markers",
         "name": "Platt",
         "orientation": "v",
         "showlegend": true,
         "type": "scatter",
         "x": [
          10,
          24,
          58,
          141,
          341,
          825,
          1995
         ],
         "xaxis": "x3",
         "y": [
          0.00006460277568178404,
          0.00006460277568178404,
          0.00006460277568178404,
          0.00006460277568178404,
          0.00006460277568178404,
          0.00006460277568178404,
          0.00006460277568178404
         ],
         "yaxis": "y3"
        },
        {
         "hovertemplate": "Calibrator=Platt<br>Metric=sha<br>B=%{x}<br>Value=%{y}<extra></extra>",
         "legendgroup": "Platt",
         "line": {
          "color": "#636efa",
          "dash": "solid"
         },
         "marker": {
          "symbol": "circle"
         },
         "mode": "lines+markers",
         "name": "Platt",
         "orientation": "v",
         "showlegend": false,
         "type": "scatter",
         "x": [
          10,
          24,
          58,
          141,
          341,
          825,
          1995
         ],
         "xaxis": "x2",
         "y": [
          0,
          0,
          0,
          0,
          0,
          0,
          0
         ],
         "yaxis": "y2"
        },
        {
         "hovertemplate": "Calibrator=Platt<br>Metric=risk<br>B=%{x}<br>Value=%{y}<extra></extra>",
         "legendgroup": "Platt",
         "line": {
          "color": "#636efa",
          "dash": "solid"
         },
         "marker": {
          "symbol": "circle"
         },
         "mode": "lines+markers",
         "name": "Platt",
         "orientation": "v",
         "showlegend": false,
         "type": "scatter",
         "x": [
          10,
          24,
          58,
          141,
          341,
          825,
          1995
         ],
         "xaxis": "x",
         "y": [
          0.00006460277568178404,
          0.00006460277568178404,
          0.00006460277568178404,
          0.00006460277568178404,
          0.00006460277568178404,
          0.00006460277568178404,
          0.00006460277568178404
         ],
         "yaxis": "y"
        },
        {
         "hovertemplate": "Calibrator=Hybrid<br>Metric=cal<br>B=%{x}<br>Value=%{y}<extra></extra>",
         "legendgroup": "Hybrid",
         "line": {
          "color": "#EF553B",
          "dash": "dot"
         },
         "marker": {
          "symbol": "diamond"
         },
         "mode": "lines+markers",
         "name": "Hybrid",
         "orientation": "v",
         "showlegend": true,
         "type": "scatter",
         "x": [
          10,
          24,
          58,
          141,
          341,
          825,
          1995
         ],
         "xaxis": "x3",
         "y": [
          0.00003820080973402101,
          0.00008422193323327102,
          0.00007272017013191175,
          0.00006958787901761252,
          0.00006441649964415853,
          0.00006400144602778502,
          0.00006477518784398195
         ],
         "yaxis": "y3"
        },
        {
         "hovertemplate": "Calibrator=Hybrid<br>Metric=sha<br>B=%{x}<br>Value=%{y}<extra></extra>",
         "legendgroup": "Hybrid",
         "line": {
          "color": "#EF553B",
          "dash": "dot"
         },
         "marker": {
          "symbol": "diamond"
         },
         "mode": "lines+markers",
         "name": "Hybrid",
         "orientation": "v",
         "showlegend": false,
         "type": "scatter",
         "x": [
          10,
          24,
          58,
          141,
          341,
          825,
          1995
         ],
         "xaxis": "x2",
         "y": [
          0.0034020017875269156,
          0.0013798686785055048,
          0.00028355262106613966,
          0.00005132632855235738,
          0.000009446704907853587,
          0.000002014750337167435,
          4.949817669483902e-7
         ],
         "yaxis": "y2"
        },
        {
         "hovertemplate": "Calibrator=Hybrid<br>Metric=risk<br>B=%{x}<br>Value=%{y}<extra></extra>",
         "legendgroup": "Hybrid",
         "line": {
          "color": "#EF553B",
          "dash": "dot"
         },
         "marker": {
          "symbol": "diamond"
         },
         "mode": "lines+markers",
         "name": "Hybrid",
         "orientation": "v",
         "showlegend": false,
         "type": "scatter",
         "x": [
          10,
          24,
          58,
          141,
          341,
          825,
          1995
         ],
         "xaxis": "x",
         "y": [
          0.0034402025972609367,
          0.0014640906117387759,
          0.00035627279119805145,
          0.00012091420756996991,
          0.00007386320455201211,
          0.00006601619636495246,
          0.00006527016961093034
         ],
         "yaxis": "y"
        },
        {
         "hovertemplate": "Calibrator=UWB<br>Metric=cal<br>B=%{x}<br>Value=%{y}<extra></extra>",
         "legendgroup": "UWB",
         "line": {
          "color": "#00cc96",
          "dash": "dash"
         },
         "marker": {
          "symbol": "square"
         },
         "mode": "lines+markers",
         "name": "UWB",
         "orientation": "v",
         "showlegend": true,
         "type": "scatter",
         "x": [
          10,
          24,
          58,
          141,
          341,
          825,
          1995
         ],
         "xaxis": "x3",
         "y": [
          0.00012092268315771106,
          0.00024976564926513145,
          0.0008219225923550602,
          0.0019254267374201068,
          0.005333174875551006,
          0.008519192779877071,
          0.009421120753552758
         ],
         "yaxis": "y3"
        },
        {
         "hovertemplate": "Calibrator=UWB<br>Metric=sha<br>B=%{x}<br>Value=%{y}<extra></extra>",
         "legendgroup": "UWB",
         "line": {
          "color": "#00cc96",
          "dash": "dash"
         },
         "marker": {
          "symbol": "square"
         },
         "mode": "lines+markers",
         "name": "UWB",
         "orientation": "v",
         "showlegend": false,
         "type": "scatter",
         "x": [
          10,
          24,
          58,
          141,
          341,
          825,
          1995
         ],
         "xaxis": "x2",
         "y": [
          0.0005679774127557018,
          0.0000981298209073395,
          0.000016779818598549616,
          0.00000283955760321959,
          4.791606036982e-7,
          7.759205191770914e-8,
          9.569609559611845e-9
         ],
         "yaxis": "y2"
        },
        {
         "hovertemplate": "Calibrator=UWB<br>Metric=risk<br>B=%{x}<br>Value=%{y}<extra></extra>",
         "legendgroup": "UWB",
         "line": {
          "color": "#00cc96",
          "dash": "dash"
         },
         "marker": {
          "symbol": "square"
         },
         "mode": "lines+markers",
         "name": "UWB",
         "orientation": "v",
         "showlegend": false,
         "type": "scatter",
         "x": [
          10,
          24,
          58,
          141,
          341,
          825,
          1995
         ],
         "xaxis": "x",
         "y": [
          0.0006889000959134128,
          0.0003478954701724709,
          0.0008387024109536098,
          0.0019282662950233264,
          0.005333654036154704,
          0.008519270371928988,
          0.009421130323162318
         ],
         "yaxis": "y"
        },
        {
         "hovertemplate": "Calibrator=UMB<br>Metric=cal<br>B=%{x}<br>Value=%{y}<extra></extra>",
         "legendgroup": "UMB",
         "line": {
          "color": "#ab63fa",
          "dash": "longdash"
         },
         "marker": {
          "symbol": "x"
         },
         "mode": "lines+markers",
         "name": "UMB",
         "orientation": "v",
         "showlegend": true,
         "type": "scatter",
         "x": [
          10,
          24,
          58,
          141,
          341,
          825,
          1995
         ],
         "xaxis": "x3",
         "y": [
          0.000044066803643325235,
          0.00010347315453207735,
          0.0001866688413333078,
          0.0003521838144809906,
          0.0010637995854797053,
          0.0025908124299061975,
          0.004896681466616337
         ],
         "yaxis": "y3"
        },
        {
         "hovertemplate": "Calibrator=UMB<br>Metric=sha<br>B=%{x}<br>Value=%{y}<extra></extra>",
         "legendgroup": "UMB",
         "line": {
          "color": "#ab63fa",
          "dash": "longdash"
         },
         "marker": {
          "symbol": "x"
         },
         "mode": "lines+markers",
         "name": "UMB",
         "orientation": "v",
         "showlegend": false,
         "type": "scatter",
         "x": [
          10,
          24,
          58,
          141,
          341,
          825,
          1995
         ],
         "xaxis": "x2",
         "y": [
          0.0034020017873549564,
          0.0013798686819692886,
          0.00028355262905324955,
          0.00005132633511562801,
          0.000009446731671402331,
          0.0000020147847609523974,
          4.949775275498348e-7
         ],
         "yaxis": "y2"
        },
        {
         "hovertemplate": "Calibrator=UMB<br>Metric=risk<br>B=%{x}<br>Value=%{y}<extra></extra>",
         "legendgroup": "UMB",
         "line": {
          "color": "#ab63fa",
          "dash": "longdash"
         },
         "marker": {
          "symbol": "x"
         },
         "mode": "lines+markers",
         "name": "UMB",
         "orientation": "v",
         "showlegend": false,
         "type": "scatter",
         "x": [
          10,
          24,
          58,
          141,
          341,
          825,
          1995
         ],
         "xaxis": "x",
         "y": [
          0.0034460685909982816,
          0.001483341836501366,
          0.00047022147038655734,
          0.00040351014959661867,
          0.0010732463171511076,
          0.0025928272146671497,
          0.004897176444143886
         ],
         "yaxis": "y"
        }
       ],
       "layout": {
        "annotations": [
         {
          "font": {},
          "showarrow": false,
          "text": "",
          "textangle": 90,
          "x": 0.98,
          "xanchor": "left",
          "xref": "paper",
          "y": 0.15666666666666665,
          "yanchor": "middle",
          "yref": "paper"
         },
         {
          "font": {},
          "showarrow": false,
          "text": "",
          "textangle": 90,
          "x": 0.98,
          "xanchor": "left",
          "xref": "paper",
          "y": 0.4999999999999999,
          "yanchor": "middle",
          "yref": "paper"
         },
         {
          "font": {},
          "showarrow": false,
          "text": "",
          "textangle": 90,
          "x": 0.98,
          "xanchor": "left",
          "xref": "paper",
          "y": 0.8433333333333332,
          "yanchor": "middle",
          "yref": "paper"
         }
        ],
        "height": 450,
        "legend": {
         "orientation": "h",
         "title": {
          "text": ""
         },
         "tracegroupgap": 0,
         "x": 1,
         "xanchor": "right",
         "y": 1.02,
         "yanchor": "bottom"
        },
        "margin": {
         "b": 0,
         "l": 0,
         "r": 0,
         "t": 0
        },
        "template": {
         "data": {
          "bar": [
           {
            "error_x": {
             "color": "rgb(36,36,36)"
            },
            "error_y": {
             "color": "rgb(36,36,36)"
            },
            "marker": {
             "line": {
              "color": "white",
              "width": 0.5
             },
             "pattern": {
              "fillmode": "overlay",
              "size": 10,
              "solidity": 0.2
             }
            },
            "type": "bar"
           }
          ],
          "barpolar": [
           {
            "marker": {
             "line": {
              "color": "white",
              "width": 0.5
             },
             "pattern": {
              "fillmode": "overlay",
              "size": 10,
              "solidity": 0.2
             }
            },
            "type": "barpolar"
           }
          ],
          "carpet": [
           {
            "aaxis": {
             "endlinecolor": "rgb(36,36,36)",
             "gridcolor": "white",
             "linecolor": "white",
             "minorgridcolor": "white",
             "startlinecolor": "rgb(36,36,36)"
            },
            "baxis": {
             "endlinecolor": "rgb(36,36,36)",
             "gridcolor": "white",
             "linecolor": "white",
             "minorgridcolor": "white",
             "startlinecolor": "rgb(36,36,36)"
            },
            "type": "carpet"
           }
          ],
          "choropleth": [
           {
            "colorbar": {
             "outlinewidth": 1,
             "tickcolor": "rgb(36,36,36)",
             "ticks": "outside"
            },
            "type": "choropleth"
           }
          ],
          "contour": [
           {
            "colorbar": {
             "outlinewidth": 1,
             "tickcolor": "rgb(36,36,36)",
             "ticks": "outside"
            },
            "colorscale": [
             [
              0,
              "#440154"
             ],
             [
              0.1111111111111111,
              "#482878"
             ],
             [
              0.2222222222222222,
              "#3e4989"
             ],
             [
              0.3333333333333333,
              "#31688e"
             ],
             [
              0.4444444444444444,
              "#26828e"
             ],
             [
              0.5555555555555556,
              "#1f9e89"
             ],
             [
              0.6666666666666666,
              "#35b779"
             ],
             [
              0.7777777777777778,
              "#6ece58"
             ],
             [
              0.8888888888888888,
              "#b5de2b"
             ],
             [
              1,
              "#fde725"
             ]
            ],
            "type": "contour"
           }
          ],
          "contourcarpet": [
           {
            "colorbar": {
             "outlinewidth": 1,
             "tickcolor": "rgb(36,36,36)",
             "ticks": "outside"
            },
            "type": "contourcarpet"
           }
          ],
          "heatmap": [
           {
            "colorbar": {
             "outlinewidth": 1,
             "tickcolor": "rgb(36,36,36)",
             "ticks": "outside"
            },
            "colorscale": [
             [
              0,
              "#440154"
             ],
             [
              0.1111111111111111,
              "#482878"
             ],
             [
              0.2222222222222222,
              "#3e4989"
             ],
             [
              0.3333333333333333,
              "#31688e"
             ],
             [
              0.4444444444444444,
              "#26828e"
             ],
             [
              0.5555555555555556,
              "#1f9e89"
             ],
             [
              0.6666666666666666,
              "#35b779"
             ],
             [
              0.7777777777777778,
              "#6ece58"
             ],
             [
              0.8888888888888888,
              "#b5de2b"
             ],
             [
              1,
              "#fde725"
             ]
            ],
            "type": "heatmap"
           }
          ],
          "heatmapgl": [
           {
            "colorbar": {
             "outlinewidth": 1,
             "tickcolor": "rgb(36,36,36)",
             "ticks": "outside"
            },
            "colorscale": [
             [
              0,
              "#440154"
             ],
             [
              0.1111111111111111,
              "#482878"
             ],
             [
              0.2222222222222222,
              "#3e4989"
             ],
             [
              0.3333333333333333,
              "#31688e"
             ],
             [
              0.4444444444444444,
              "#26828e"
             ],
             [
              0.5555555555555556,
              "#1f9e89"
             ],
             [
              0.6666666666666666,
              "#35b779"
             ],
             [
              0.7777777777777778,
              "#6ece58"
             ],
             [
              0.8888888888888888,
              "#b5de2b"
             ],
             [
              1,
              "#fde725"
             ]
            ],
            "type": "heatmapgl"
           }
          ],
          "histogram": [
           {
            "marker": {
             "line": {
              "color": "white",
              "width": 0.6
             }
            },
            "type": "histogram"
           }
          ],
          "histogram2d": [
           {
            "colorbar": {
             "outlinewidth": 1,
             "tickcolor": "rgb(36,36,36)",
             "ticks": "outside"
            },
            "colorscale": [
             [
              0,
              "#440154"
             ],
             [
              0.1111111111111111,
              "#482878"
             ],
             [
              0.2222222222222222,
              "#3e4989"
             ],
             [
              0.3333333333333333,
              "#31688e"
             ],
             [
              0.4444444444444444,
              "#26828e"
             ],
             [
              0.5555555555555556,
              "#1f9e89"
             ],
             [
              0.6666666666666666,
              "#35b779"
             ],
             [
              0.7777777777777778,
              "#6ece58"
             ],
             [
              0.8888888888888888,
              "#b5de2b"
             ],
             [
              1,
              "#fde725"
             ]
            ],
            "type": "histogram2d"
           }
          ],
          "histogram2dcontour": [
           {
            "colorbar": {
             "outlinewidth": 1,
             "tickcolor": "rgb(36,36,36)",
             "ticks": "outside"
            },
            "colorscale": [
             [
              0,
              "#440154"
             ],
             [
              0.1111111111111111,
              "#482878"
             ],
             [
              0.2222222222222222,
              "#3e4989"
             ],
             [
              0.3333333333333333,
              "#31688e"
             ],
             [
              0.4444444444444444,
              "#26828e"
             ],
             [
              0.5555555555555556,
              "#1f9e89"
             ],
             [
              0.6666666666666666,
              "#35b779"
             ],
             [
              0.7777777777777778,
              "#6ece58"
             ],
             [
              0.8888888888888888,
              "#b5de2b"
             ],
             [
              1,
              "#fde725"
             ]
            ],
            "type": "histogram2dcontour"
           }
          ],
          "mesh3d": [
           {
            "colorbar": {
             "outlinewidth": 1,
             "tickcolor": "rgb(36,36,36)",
             "ticks": "outside"
            },
            "type": "mesh3d"
           }
          ],
          "parcoords": [
           {
            "line": {
             "colorbar": {
              "outlinewidth": 1,
              "tickcolor": "rgb(36,36,36)",
              "ticks": "outside"
             }
            },
            "type": "parcoords"
           }
          ],
          "pie": [
           {
            "automargin": true,
            "type": "pie"
           }
          ],
          "scatter": [
           {
            "marker": {
             "colorbar": {
              "outlinewidth": 1,
              "tickcolor": "rgb(36,36,36)",
              "ticks": "outside"
             }
            },
            "type": "scatter"
           }
          ],
          "scatter3d": [
           {
            "line": {
             "colorbar": {
              "outlinewidth": 1,
              "tickcolor": "rgb(36,36,36)",
              "ticks": "outside"
             }
            },
            "marker": {
             "colorbar": {
              "outlinewidth": 1,
              "tickcolor": "rgb(36,36,36)",
              "ticks": "outside"
             }
            },
            "type": "scatter3d"
           }
          ],
          "scattercarpet": [
           {
            "marker": {
             "colorbar": {
              "outlinewidth": 1,
              "tickcolor": "rgb(36,36,36)",
              "ticks": "outside"
             }
            },
            "type": "scattercarpet"
           }
          ],
          "scattergeo": [
           {
            "marker": {
             "colorbar": {
              "outlinewidth": 1,
              "tickcolor": "rgb(36,36,36)",
              "ticks": "outside"
             }
            },
            "type": "scattergeo"
           }
          ],
          "scattergl": [
           {
            "marker": {
             "colorbar": {
              "outlinewidth": 1,
              "tickcolor": "rgb(36,36,36)",
              "ticks": "outside"
             }
            },
            "type": "scattergl"
           }
          ],
          "scattermapbox": [
           {
            "marker": {
             "colorbar": {
              "outlinewidth": 1,
              "tickcolor": "rgb(36,36,36)",
              "ticks": "outside"
             }
            },
            "type": "scattermapbox"
           }
          ],
          "scatterpolar": [
           {
            "marker": {
             "colorbar": {
              "outlinewidth": 1,
              "tickcolor": "rgb(36,36,36)",
              "ticks": "outside"
             }
            },
            "type": "scatterpolar"
           }
          ],
          "scatterpolargl": [
           {
            "marker": {
             "colorbar": {
              "outlinewidth": 1,
              "tickcolor": "rgb(36,36,36)",
              "ticks": "outside"
             }
            },
            "type": "scatterpolargl"
           }
          ],
          "scatterternary": [
           {
            "marker": {
             "colorbar": {
              "outlinewidth": 1,
              "tickcolor": "rgb(36,36,36)",
              "ticks": "outside"
             }
            },
            "type": "scatterternary"
           }
          ],
          "surface": [
           {
            "colorbar": {
             "outlinewidth": 1,
             "tickcolor": "rgb(36,36,36)",
             "ticks": "outside"
            },
            "colorscale": [
             [
              0,
              "#440154"
             ],
             [
              0.1111111111111111,
              "#482878"
             ],
             [
              0.2222222222222222,
              "#3e4989"
             ],
             [
              0.3333333333333333,
              "#31688e"
             ],
             [
              0.4444444444444444,
              "#26828e"
             ],
             [
              0.5555555555555556,
              "#1f9e89"
             ],
             [
              0.6666666666666666,
              "#35b779"
             ],
             [
              0.7777777777777778,
              "#6ece58"
             ],
             [
              0.8888888888888888,
              "#b5de2b"
             ],
             [
              1,
              "#fde725"
             ]
            ],
            "type": "surface"
           }
          ],
          "table": [
           {
            "cells": {
             "fill": {
              "color": "rgb(237,237,237)"
             },
             "line": {
              "color": "white"
             }
            },
            "header": {
             "fill": {
              "color": "rgb(217,217,217)"
             },
             "line": {
              "color": "white"
             }
            },
            "type": "table"
           }
          ]
         },
         "layout": {
          "annotationdefaults": {
           "arrowhead": 0,
           "arrowwidth": 1
          },
          "autotypenumbers": "strict",
          "coloraxis": {
           "colorbar": {
            "outlinewidth": 1,
            "tickcolor": "rgb(36,36,36)",
            "ticks": "outside"
           }
          },
          "colorscale": {
           "diverging": [
            [
             0,
             "rgb(103,0,31)"
            ],
            [
             0.1,
             "rgb(178,24,43)"
            ],
            [
             0.2,
             "rgb(214,96,77)"
            ],
            [
             0.3,
             "rgb(244,165,130)"
            ],
            [
             0.4,
             "rgb(253,219,199)"
            ],
            [
             0.5,
             "rgb(247,247,247)"
            ],
            [
             0.6,
             "rgb(209,229,240)"
            ],
            [
             0.7,
             "rgb(146,197,222)"
            ],
            [
             0.8,
             "rgb(67,147,195)"
            ],
            [
             0.9,
             "rgb(33,102,172)"
            ],
            [
             1,
             "rgb(5,48,97)"
            ]
           ],
           "sequential": [
            [
             0,
             "#440154"
            ],
            [
             0.1111111111111111,
             "#482878"
            ],
            [
             0.2222222222222222,
             "#3e4989"
            ],
            [
             0.3333333333333333,
             "#31688e"
            ],
            [
             0.4444444444444444,
             "#26828e"
            ],
            [
             0.5555555555555556,
             "#1f9e89"
            ],
            [
             0.6666666666666666,
             "#35b779"
            ],
            [
             0.7777777777777778,
             "#6ece58"
            ],
            [
             0.8888888888888888,
             "#b5de2b"
            ],
            [
             1,
             "#fde725"
            ]
           ],
           "sequentialminus": [
            [
             0,
             "#440154"
            ],
            [
             0.1111111111111111,
             "#482878"
            ],
            [
             0.2222222222222222,
             "#3e4989"
            ],
            [
             0.3333333333333333,
             "#31688e"
            ],
            [
             0.4444444444444444,
             "#26828e"
            ],
            [
             0.5555555555555556,
             "#1f9e89"
            ],
            [
             0.6666666666666666,
             "#35b779"
            ],
            [
             0.7777777777777778,
             "#6ece58"
            ],
            [
             0.8888888888888888,
             "#b5de2b"
            ],
            [
             1,
             "#fde725"
            ]
           ]
          },
          "colorway": [
           "#1F77B4",
           "#FF7F0E",
           "#2CA02C",
           "#D62728",
           "#9467BD",
           "#8C564B",
           "#E377C2",
           "#7F7F7F",
           "#BCBD22",
           "#17BECF"
          ],
          "font": {
           "color": "rgb(36,36,36)"
          },
          "geo": {
           "bgcolor": "white",
           "lakecolor": "white",
           "landcolor": "white",
           "showlakes": true,
           "showland": true,
           "subunitcolor": "white"
          },
          "hoverlabel": {
           "align": "left"
          },
          "hovermode": "closest",
          "mapbox": {
           "style": "light"
          },
          "paper_bgcolor": "white",
          "plot_bgcolor": "white",
          "polar": {
           "angularaxis": {
            "gridcolor": "rgb(232,232,232)",
            "linecolor": "rgb(36,36,36)",
            "showgrid": false,
            "showline": true,
            "ticks": "outside"
           },
           "bgcolor": "white",
           "radialaxis": {
            "gridcolor": "rgb(232,232,232)",
            "linecolor": "rgb(36,36,36)",
            "showgrid": false,
            "showline": true,
            "ticks": "outside"
           }
          },
          "scene": {
           "xaxis": {
            "backgroundcolor": "white",
            "gridcolor": "rgb(232,232,232)",
            "gridwidth": 2,
            "linecolor": "rgb(36,36,36)",
            "showbackground": true,
            "showgrid": false,
            "showline": true,
            "ticks": "outside",
            "zeroline": false,
            "zerolinecolor": "rgb(36,36,36)"
           },
           "yaxis": {
            "backgroundcolor": "white",
            "gridcolor": "rgb(232,232,232)",
            "gridwidth": 2,
            "linecolor": "rgb(36,36,36)",
            "showbackground": true,
            "showgrid": false,
            "showline": true,
            "ticks": "outside",
            "zeroline": false,
            "zerolinecolor": "rgb(36,36,36)"
           },
           "zaxis": {
            "backgroundcolor": "white",
            "gridcolor": "rgb(232,232,232)",
            "gridwidth": 2,
            "linecolor": "rgb(36,36,36)",
            "showbackground": true,
            "showgrid": false,
            "showline": true,
            "ticks": "outside",
            "zeroline": false,
            "zerolinecolor": "rgb(36,36,36)"
           }
          },
          "shapedefaults": {
           "fillcolor": "black",
           "line": {
            "width": 0
           },
           "opacity": 0.3
          },
          "ternary": {
           "aaxis": {
            "gridcolor": "rgb(232,232,232)",
            "linecolor": "rgb(36,36,36)",
            "showgrid": false,
            "showline": true,
            "ticks": "outside"
           },
           "baxis": {
            "gridcolor": "rgb(232,232,232)",
            "linecolor": "rgb(36,36,36)",
            "showgrid": false,
            "showline": true,
            "ticks": "outside"
           },
           "bgcolor": "white",
           "caxis": {
            "gridcolor": "rgb(232,232,232)",
            "linecolor": "rgb(36,36,36)",
            "showgrid": false,
            "showline": true,
            "ticks": "outside"
           }
          },
          "title": {
           "x": 0.05
          },
          "xaxis": {
           "automargin": true,
           "gridcolor": "rgb(232,232,232)",
           "linecolor": "rgb(36,36,36)",
           "showgrid": true,
           "showline": true,
           "ticks": "outside",
           "title": {
            "standoff": 15
           },
           "zeroline": false,
           "zerolinecolor": "rgb(36,36,36)"
          },
          "yaxis": {
           "automargin": true,
           "gridcolor": "rgb(232,232,232)",
           "linecolor": "rgb(36,36,36)",
           "showgrid": true,
           "showline": true,
           "ticks": "outside",
           "title": {
            "standoff": 15
           },
           "zeroline": false,
           "zerolinecolor": "rgb(36,36,36)"
          }
         }
        },
        "width": 250,
        "xaxis": {
         "anchor": "y",
         "domain": [
          0,
          0.98
         ],
         "title": {
          "text": "B"
         },
         "type": "log"
        },
        "xaxis2": {
         "anchor": "y2",
         "domain": [
          0,
          0.98
         ],
         "matches": "x",
         "showticklabels": false,
         "type": "log"
        },
        "xaxis3": {
         "anchor": "y3",
         "domain": [
          0,
          0.98
         ],
         "matches": "x",
         "showticklabels": false,
         "type": "log"
        },
        "yaxis": {
         "anchor": "x",
         "domain": [
          0,
          0.3133333333333333
         ],
         "showticklabels": true,
         "title": {
          "text": "R"
         },
         "type": "log"
        },
        "yaxis2": {
         "anchor": "x2",
         "domain": [
          0.34333333333333327,
          0.6566666666666665
         ],
         "showticklabels": true,
         "title": {
          "text": "R<sup>sha</sup>"
         },
         "type": "log"
        },
        "yaxis3": {
         "anchor": "x3",
         "domain": [
          0.6866666666666665,
          0.9999999999999998
         ],
         "showticklabels": true,
         "title": {
          "text": "R<sup>cal</sup>"
         },
         "type": "log"
        }
       }
      }
     },
     "metadata": {},
     "output_type": "display_data"
    }
   ],
   "source": [
    "fig = sim.plot_asymp(df)\n",
    "fig"
   ]
  },
  {
   "cell_type": "code",
   "execution_count": 8,
   "metadata": {},
   "outputs": [
    {
     "name": "stdout",
     "output_type": "stream",
     "text": [
      "17\n"
     ]
    }
   ],
   "source": [
    "B = round(n ** (1/3))\n",
    "print(B)\n",
    "df_raw = sim.run_calibrators_asymp(n_list=[5000], B_list=[B], i_list=np.arange(100))"
   ]
  },
  {
   "cell_type": "code",
   "execution_count": 9,
   "metadata": {},
   "outputs": [
    {
     "name": "stdout",
     "output_type": "stream",
     "text": [
      "\\begin{tabular}{ccccc}\n",
      "\\toprule\n",
      "Metric ($\\times 10^{-3}$) & $\\REL$ & $\\GRP$ & $R$ & MSE \\\\\n",
      "\\midrule\n",
      "Platt & \\bfseries 0.062 & \\bfseries 0.000 & \\bfseries 0.062 & \\bfseries 2.573 \\\\\n",
      "Hybrid & 0.087 & 4.284 & 4.345 & 6.855 \\\\\n",
      "UWB & 0.312 & 0.195 & 0.507 & 3.017 \\\\\n",
      "UMB & 0.173 & 4.284 & 4.363 & 6.874 \\\\\n",
      "\\bottomrule\n",
      "\\end{tabular}\n",
      "\n"
     ]
    },
    {
     "data": {
      "text/html": [
       "<div>\n",
       "<style scoped>\n",
       "    .dataframe tbody tr th:only-of-type {\n",
       "        vertical-align: middle;\n",
       "    }\n",
       "\n",
       "    .dataframe tbody tr th {\n",
       "        vertical-align: top;\n",
       "    }\n",
       "\n",
       "    .dataframe thead th {\n",
       "        text-align: right;\n",
       "    }\n",
       "</style>\n",
       "<table border=\"1\" class=\"dataframe\">\n",
       "  <thead>\n",
       "    <tr style=\"text-align: right;\">\n",
       "      <th>Metric ($\\times 10^{-3}$)</th>\n",
       "      <th>$\\REL$</th>\n",
       "      <th>$\\GRP$</th>\n",
       "      <th>$R$</th>\n",
       "      <th>MSE</th>\n",
       "    </tr>\n",
       "  </thead>\n",
       "  <tbody>\n",
       "    <tr>\n",
       "      <th>Platt</th>\n",
       "      <td>0.062234</td>\n",
       "      <td>0.00000</td>\n",
       "      <td>0.062234</td>\n",
       "      <td>2.572637</td>\n",
       "    </tr>\n",
       "    <tr>\n",
       "      <th>Hybrid</th>\n",
       "      <td>0.086634</td>\n",
       "      <td>4.28411</td>\n",
       "      <td>4.345000</td>\n",
       "      <td>6.855403</td>\n",
       "    </tr>\n",
       "    <tr>\n",
       "      <th>UWB</th>\n",
       "      <td>0.311842</td>\n",
       "      <td>0.19496</td>\n",
       "      <td>0.506802</td>\n",
       "      <td>3.017205</td>\n",
       "    </tr>\n",
       "    <tr>\n",
       "      <th>UMB</th>\n",
       "      <td>0.172857</td>\n",
       "      <td>4.28411</td>\n",
       "      <td>4.363205</td>\n",
       "      <td>6.873608</td>\n",
       "    </tr>\n",
       "  </tbody>\n",
       "</table>\n",
       "</div>"
      ],
      "text/plain": [
       "Metric ($\\times 10^{-3}$)    $\\REL$   $\\GRP$       $R$       MSE\n",
       "Platt                      0.062234  0.00000  0.062234  2.572637\n",
       "Hybrid                     0.086634  4.28411  4.345000  6.855403\n",
       "UWB                        0.311842  0.19496  0.506802  3.017205\n",
       "UMB                        0.172857  4.28411  4.363205  6.873608"
      ]
     },
     "execution_count": 9,
     "metadata": {},
     "output_type": "execute_result"
    }
   ],
   "source": [
    "df_wide, df_str = sim.tabulate(df_raw)\n",
    "print(df_str)\n",
    "df_wide"
   ]
  },
  {
   "cell_type": "markdown",
   "metadata": {},
   "source": [
    "### Simulation 2: Logistic calibration\n",
    "$$\n",
    "    \\begin{aligned}\n",
    "    Z &\\sim \\text{Uniform}[0,1], \\\\\n",
    "    Y \\mid Z &\\sim \\text{Bernoulli}(h_{\\text{beta}}(Z; 4, 4, 0)),\n",
    "    \\end{aligned}\n",
    "$$\n",
    "where\n",
    "$$\n",
    "    h_{\\text{beta}}(z; a, b, c) = \\frac{1}{1 + 1/\\left(e^c \\frac{z^a}{(1-z)^b}\\right)}.\n",
    "$$"
   ]
  },
  {
   "cell_type": "markdown",
   "metadata": {},
   "source": [
    "#### Risk vs. B"
   ]
  },
  {
   "cell_type": "code",
   "execution_count": 10,
   "metadata": {},
   "outputs": [
    {
     "data": {
      "text/html": [
       "<div>\n",
       "<style scoped>\n",
       "    .dataframe tbody tr th:only-of-type {\n",
       "        vertical-align: middle;\n",
       "    }\n",
       "\n",
       "    .dataframe tbody tr th {\n",
       "        vertical-align: top;\n",
       "    }\n",
       "\n",
       "    .dataframe thead th {\n",
       "        text-align: right;\n",
       "    }\n",
       "</style>\n",
       "<table border=\"1\" class=\"dataframe\">\n",
       "  <thead>\n",
       "    <tr style=\"text-align: right;\">\n",
       "      <th></th>\n",
       "      <th>Calibrator</th>\n",
       "      <th>Metric</th>\n",
       "      <th>Value</th>\n",
       "      <th>n</th>\n",
       "      <th>B</th>\n",
       "      <th>i</th>\n",
       "    </tr>\n",
       "  </thead>\n",
       "  <tbody>\n",
       "    <tr>\n",
       "      <th>0</th>\n",
       "      <td>Optimal</td>\n",
       "      <td>cal</td>\n",
       "      <td>0.000000e+00</td>\n",
       "      <td>5000</td>\n",
       "      <td>10</td>\n",
       "      <td>0</td>\n",
       "    </tr>\n",
       "    <tr>\n",
       "      <th>1</th>\n",
       "      <td>Optimal</td>\n",
       "      <td>sha</td>\n",
       "      <td>0.000000e+00</td>\n",
       "      <td>5000</td>\n",
       "      <td>10</td>\n",
       "      <td>0</td>\n",
       "    </tr>\n",
       "    <tr>\n",
       "      <th>2</th>\n",
       "      <td>Optimal</td>\n",
       "      <td>ref</td>\n",
       "      <td>1.021612e-02</td>\n",
       "      <td>5000</td>\n",
       "      <td>10</td>\n",
       "      <td>0</td>\n",
       "    </tr>\n",
       "    <tr>\n",
       "      <th>3</th>\n",
       "      <td>Optimal</td>\n",
       "      <td>risk</td>\n",
       "      <td>0.000000e+00</td>\n",
       "      <td>5000</td>\n",
       "      <td>10</td>\n",
       "      <td>0</td>\n",
       "    </tr>\n",
       "    <tr>\n",
       "      <th>4</th>\n",
       "      <td>Optimal</td>\n",
       "      <td>bs</td>\n",
       "      <td>1.021612e-02</td>\n",
       "      <td>5000</td>\n",
       "      <td>10</td>\n",
       "      <td>0</td>\n",
       "    </tr>\n",
       "    <tr>\n",
       "      <th>...</th>\n",
       "      <td>...</td>\n",
       "      <td>...</td>\n",
       "      <td>...</td>\n",
       "      <td>...</td>\n",
       "      <td>...</td>\n",
       "      <td>...</td>\n",
       "    </tr>\n",
       "    <tr>\n",
       "      <th>170</th>\n",
       "      <td>UMB</td>\n",
       "      <td>cal</td>\n",
       "      <td>2.206503e-02</td>\n",
       "      <td>5000</td>\n",
       "      <td>1995</td>\n",
       "      <td>0</td>\n",
       "    </tr>\n",
       "    <tr>\n",
       "      <th>171</th>\n",
       "      <td>UMB</td>\n",
       "      <td>sha</td>\n",
       "      <td>1.253362e-07</td>\n",
       "      <td>5000</td>\n",
       "      <td>1995</td>\n",
       "      <td>0</td>\n",
       "    </tr>\n",
       "    <tr>\n",
       "      <th>172</th>\n",
       "      <td>UMB</td>\n",
       "      <td>ref</td>\n",
       "      <td>1.021612e-02</td>\n",
       "      <td>5000</td>\n",
       "      <td>1995</td>\n",
       "      <td>0</td>\n",
       "    </tr>\n",
       "    <tr>\n",
       "      <th>173</th>\n",
       "      <td>UMB</td>\n",
       "      <td>risk</td>\n",
       "      <td>2.206516e-02</td>\n",
       "      <td>5000</td>\n",
       "      <td>1995</td>\n",
       "      <td>0</td>\n",
       "    </tr>\n",
       "    <tr>\n",
       "      <th>174</th>\n",
       "      <td>UMB</td>\n",
       "      <td>bs</td>\n",
       "      <td>3.228128e-02</td>\n",
       "      <td>5000</td>\n",
       "      <td>1995</td>\n",
       "      <td>0</td>\n",
       "    </tr>\n",
       "  </tbody>\n",
       "</table>\n",
       "<p>175 rows × 6 columns</p>\n",
       "</div>"
      ],
      "text/plain": [
       "    Calibrator Metric         Value     n     B  i\n",
       "0      Optimal    cal  0.000000e+00  5000    10  0\n",
       "1      Optimal    sha  0.000000e+00  5000    10  0\n",
       "2      Optimal    ref  1.021612e-02  5000    10  0\n",
       "3      Optimal   risk  0.000000e+00  5000    10  0\n",
       "4      Optimal     bs  1.021612e-02  5000    10  0\n",
       "..         ...    ...           ...   ...   ... ..\n",
       "170        UMB    cal  2.206503e-02  5000  1995  0\n",
       "171        UMB    sha  1.253362e-07  5000  1995  0\n",
       "172        UMB    ref  1.021612e-02  5000  1995  0\n",
       "173        UMB   risk  2.206516e-02  5000  1995  0\n",
       "174        UMB     bs  3.228128e-02  5000  1995  0\n",
       "\n",
       "[175 rows x 6 columns]"
      ]
     },
     "execution_count": 10,
     "metadata": {},
     "output_type": "execute_result"
    }
   ],
   "source": [
    "n = 5000\n",
    "sim = BetaCalibrationSimulation(a=4, b=4, c=0)\n",
    "df = sim.run_calibrators_asymp(n_list=[n], B_list=np.logspace(1, 3.3, 7, dtype=int), i_list=np.arange(1))\n",
    "df"
   ]
  },
  {
   "cell_type": "code",
   "execution_count": 11,
   "metadata": {},
   "outputs": [
    {
     "data": {
      "application/vnd.plotly.v1+json": {
       "config": {
        "plotlyServerURL": "https://plot.ly"
       },
       "data": [
        {
         "hovertemplate": "Calibrator=Platt<br>Metric=cal<br>B=%{x}<br>Value=%{y}<extra></extra>",
         "legendgroup": "Platt",
         "line": {
          "color": "#636efa",
          "dash": "solid"
         },
         "marker": {
          "symbol": "circle"
         },
         "mode": "lines+markers",
         "name": "Platt",
         "orientation": "v",
         "showlegend": true,
         "type": "scatter",
         "x": [
          10,
          24,
          58,
          141,
          341,
          825,
          1995
         ],
         "xaxis": "x3",
         "y": [
          0.000041642782476907486,
          0.000041642782476907486,
          0.000041642782476907486,
          0.000041642782476907486,
          0.000041642782476907486,
          0.000041642782476907486,
          0.000041642782476907486
         ],
         "yaxis": "y3"
        },
        {
         "hovertemplate": "Calibrator=Platt<br>Metric=sha<br>B=%{x}<br>Value=%{y}<extra></extra>",
         "legendgroup": "Platt",
         "line": {
          "color": "#636efa",
          "dash": "solid"
         },
         "marker": {
          "symbol": "circle"
         },
         "mode": "lines+markers",
         "name": "Platt",
         "orientation": "v",
         "showlegend": false,
         "type": "scatter",
         "x": [
          10,
          24,
          58,
          141,
          341,
          825,
          1995
         ],
         "xaxis": "x2",
         "y": [
          0,
          0,
          0,
          0,
          0,
          0,
          0
         ],
         "yaxis": "y2"
        },
        {
         "hovertemplate": "Calibrator=Platt<br>Metric=risk<br>B=%{x}<br>Value=%{y}<extra></extra>",
         "legendgroup": "Platt",
         "line": {
          "color": "#636efa",
          "dash": "solid"
         },
         "marker": {
          "symbol": "circle"
         },
         "mode": "lines+markers",
         "name": "Platt",
         "orientation": "v",
         "showlegend": false,
         "type": "scatter",
         "x": [
          10,
          24,
          58,
          141,
          341,
          825,
          1995
         ],
         "xaxis": "x",
         "y": [
          0.000041642782476907486,
          0.000041642782476907486,
          0.000041642782476907486,
          0.000041642782476907486,
          0.000041642782476907486,
          0.000041642782476907486,
          0.000041642782476907486
         ],
         "yaxis": "y"
        },
        {
         "hovertemplate": "Calibrator=Hybrid<br>Metric=cal<br>B=%{x}<br>Value=%{y}<extra></extra>",
         "legendgroup": "Hybrid",
         "line": {
          "color": "#EF553B",
          "dash": "dot"
         },
         "marker": {
          "symbol": "diamond"
         },
         "mode": "lines+markers",
         "name": "Hybrid",
         "orientation": "v",
         "showlegend": true,
         "type": "scatter",
         "x": [
          10,
          24,
          58,
          141,
          341,
          825,
          1995
         ],
         "xaxis": "x3",
         "y": [
          0.00004944794777752971,
          0.00003924560084700481,
          0.00004753017213354702,
          0.00004394015973012804,
          0.000041716031412978655,
          0.00004178189479496497,
          0.00004168896436372168
         ],
         "yaxis": "y3"
        },
        {
         "hovertemplate": "Calibrator=Hybrid<br>Metric=sha<br>B=%{x}<br>Value=%{y}<extra></extra>",
         "legendgroup": "Hybrid",
         "line": {
          "color": "#EF553B",
          "dash": "dot"
         },
         "marker": {
          "symbol": "diamond"
         },
         "mode": "lines+markers",
         "name": "Hybrid",
         "orientation": "v",
         "showlegend": false,
         "type": "scatter",
         "x": [
          10,
          24,
          58,
          141,
          341,
          825,
          1995
         ],
         "xaxis": "x2",
         "y": [
          0.002179430940637154,
          0.00039410061523314106,
          0.00007127715227027884,
          0.000012701127259932836,
          0.0000023310844781842888,
          4.88835251059564e-7,
          1.2533473980093989e-7
         ],
         "yaxis": "y2"
        },
        {
         "hovertemplate": "Calibrator=Hybrid<br>Metric=risk<br>B=%{x}<br>Value=%{y}<extra></extra>",
         "legendgroup": "Hybrid",
         "line": {
          "color": "#EF553B",
          "dash": "dot"
         },
         "marker": {
          "symbol": "diamond"
         },
         "mode": "lines+markers",
         "name": "Hybrid",
         "orientation": "v",
         "showlegend": false,
         "type": "scatter",
         "x": [
          10,
          24,
          58,
          141,
          341,
          825,
          1995
         ],
         "xaxis": "x",
         "y": [
          0.002228878888414684,
          0.0004333462160801459,
          0.00011880732440382587,
          0.000056641286990060875,
          0.000044047115891162945,
          0.000042270730046024535,
          0.00004181429910352262
         ],
         "yaxis": "y"
        },
        {
         "hovertemplate": "Calibrator=UWB<br>Metric=cal<br>B=%{x}<br>Value=%{y}<extra></extra>",
         "legendgroup": "UWB",
         "line": {
          "color": "#00cc96",
          "dash": "dash"
         },
         "marker": {
          "symbol": "square"
         },
         "mode": "lines+markers",
         "name": "UWB",
         "orientation": "v",
         "showlegend": true,
         "type": "scatter",
         "x": [
          10,
          24,
          58,
          141,
          341,
          825,
          1995
         ],
         "xaxis": "x3",
         "y": [
          0.00003984874367670598,
          0.00026872449381463173,
          0.0008371748926259569,
          0.0018937935172996998,
          0.003918245857524764,
          0.01037325141168177,
          0.026759903301635385
         ],
         "yaxis": "y3"
        },
        {
         "hovertemplate": "Calibrator=UWB<br>Metric=sha<br>B=%{x}<br>Value=%{y}<extra></extra>",
         "legendgroup": "UWB",
         "line": {
          "color": "#00cc96",
          "dash": "dash"
         },
         "marker": {
          "symbol": "square"
         },
         "mode": "lines+markers",
         "name": "UWB",
         "orientation": "v",
         "showlegend": false,
         "type": "scatter",
         "x": [
          10,
          24,
          58,
          141,
          341,
          825,
          1995
         ],
         "xaxis": "x2",
         "y": [
          0.002229259794981039,
          0.0003925163055990287,
          0.0000673270573034336,
          0.000011395966465964174,
          0.000001929261068121773,
          3.28622436478573e-7,
          5.0513286463083674e-8
         ],
         "yaxis": "y2"
        },
        {
         "hovertemplate": "Calibrator=UWB<br>Metric=risk<br>B=%{x}<br>Value=%{y}<extra></extra>",
         "legendgroup": "UWB",
         "line": {
          "color": "#00cc96",
          "dash": "dash"
         },
         "marker": {
          "symbol": "square"
         },
         "mode": "lines+markers",
         "name": "UWB",
         "orientation": "v",
         "showlegend": false,
         "type": "scatter",
         "x": [
          10,
          24,
          58,
          141,
          341,
          825,
          1995
         ],
         "xaxis": "x",
         "y": [
          0.002269108538657745,
          0.0006612407994136605,
          0.0009045019499293905,
          0.0019051894837656639,
          0.003920175118592885,
          0.010373580034118248,
          0.02675995381492185
         ],
         "yaxis": "y"
        },
        {
         "hovertemplate": "Calibrator=UMB<br>Metric=cal<br>B=%{x}<br>Value=%{y}<extra></extra>",
         "legendgroup": "UMB",
         "line": {
          "color": "#ab63fa",
          "dash": "longdash"
         },
         "marker": {
          "symbol": "x"
         },
         "mode": "lines+markers",
         "name": "UMB",
         "orientation": "v",
         "showlegend": true,
         "type": "scatter",
         "x": [
          10,
          24,
          58,
          141,
          341,
          825,
          1995
         ],
         "xaxis": "x3",
         "y": [
          0.00006832883467728587,
          0.00011560322471408852,
          0.00035569329226086224,
          0.0022513210926427495,
          0.004453880855269724,
          0.01094124174709554,
          0.02206502991913493
         ],
         "yaxis": "y3"
        },
        {
         "hovertemplate": "Calibrator=UMB<br>Metric=sha<br>B=%{x}<br>Value=%{y}<extra></extra>",
         "legendgroup": "UMB",
         "line": {
          "color": "#ab63fa",
          "dash": "longdash"
         },
         "marker": {
          "symbol": "x"
         },
         "mode": "lines+markers",
         "name": "UMB",
         "orientation": "v",
         "showlegend": false,
         "type": "scatter",
         "x": [
          10,
          24,
          58,
          141,
          341,
          825,
          1995
         ],
         "xaxis": "x2",
         "y": [
          0.0021794309036824136,
          0.00039410066717570795,
          0.0000712772005388212,
          0.000012701139513035465,
          0.00000233108697387262,
          4.888489572833314e-7,
          1.2533617067017007e-7
         ],
         "yaxis": "y2"
        },
        {
         "hovertemplate": "Calibrator=UMB<br>Metric=risk<br>B=%{x}<br>Value=%{y}<extra></extra>",
         "legendgroup": "UMB",
         "line": {
          "color": "#ab63fa",
          "dash": "longdash"
         },
         "marker": {
          "symbol": "x"
         },
         "mode": "lines+markers",
         "name": "UMB",
         "orientation": "v",
         "showlegend": false,
         "type": "scatter",
         "x": [
          10,
          24,
          58,
          141,
          341,
          825,
          1995
         ],
         "xaxis": "x",
         "y": [
          0.0022477597383596996,
          0.0005097038918897964,
          0.0004269704927996834,
          0.002264022232155785,
          0.004456211942243597,
          0.010941730596052824,
          0.022065155255305603
         ],
         "yaxis": "y"
        }
       ],
       "layout": {
        "annotations": [
         {
          "font": {},
          "showarrow": false,
          "text": "",
          "textangle": 90,
          "x": 0.98,
          "xanchor": "left",
          "xref": "paper",
          "y": 0.15666666666666665,
          "yanchor": "middle",
          "yref": "paper"
         },
         {
          "font": {},
          "showarrow": false,
          "text": "",
          "textangle": 90,
          "x": 0.98,
          "xanchor": "left",
          "xref": "paper",
          "y": 0.4999999999999999,
          "yanchor": "middle",
          "yref": "paper"
         },
         {
          "font": {},
          "showarrow": false,
          "text": "",
          "textangle": 90,
          "x": 0.98,
          "xanchor": "left",
          "xref": "paper",
          "y": 0.8433333333333332,
          "yanchor": "middle",
          "yref": "paper"
         }
        ],
        "height": 450,
        "legend": {
         "orientation": "h",
         "title": {
          "text": ""
         },
         "tracegroupgap": 0,
         "x": 1,
         "xanchor": "right",
         "y": 1.02,
         "yanchor": "bottom"
        },
        "margin": {
         "b": 0,
         "l": 0,
         "r": 0,
         "t": 0
        },
        "template": {
         "data": {
          "bar": [
           {
            "error_x": {
             "color": "rgb(36,36,36)"
            },
            "error_y": {
             "color": "rgb(36,36,36)"
            },
            "marker": {
             "line": {
              "color": "white",
              "width": 0.5
             },
             "pattern": {
              "fillmode": "overlay",
              "size": 10,
              "solidity": 0.2
             }
            },
            "type": "bar"
           }
          ],
          "barpolar": [
           {
            "marker": {
             "line": {
              "color": "white",
              "width": 0.5
             },
             "pattern": {
              "fillmode": "overlay",
              "size": 10,
              "solidity": 0.2
             }
            },
            "type": "barpolar"
           }
          ],
          "carpet": [
           {
            "aaxis": {
             "endlinecolor": "rgb(36,36,36)",
             "gridcolor": "white",
             "linecolor": "white",
             "minorgridcolor": "white",
             "startlinecolor": "rgb(36,36,36)"
            },
            "baxis": {
             "endlinecolor": "rgb(36,36,36)",
             "gridcolor": "white",
             "linecolor": "white",
             "minorgridcolor": "white",
             "startlinecolor": "rgb(36,36,36)"
            },
            "type": "carpet"
           }
          ],
          "choropleth": [
           {
            "colorbar": {
             "outlinewidth": 1,
             "tickcolor": "rgb(36,36,36)",
             "ticks": "outside"
            },
            "type": "choropleth"
           }
          ],
          "contour": [
           {
            "colorbar": {
             "outlinewidth": 1,
             "tickcolor": "rgb(36,36,36)",
             "ticks": "outside"
            },
            "colorscale": [
             [
              0,
              "#440154"
             ],
             [
              0.1111111111111111,
              "#482878"
             ],
             [
              0.2222222222222222,
              "#3e4989"
             ],
             [
              0.3333333333333333,
              "#31688e"
             ],
             [
              0.4444444444444444,
              "#26828e"
             ],
             [
              0.5555555555555556,
              "#1f9e89"
             ],
             [
              0.6666666666666666,
              "#35b779"
             ],
             [
              0.7777777777777778,
              "#6ece58"
             ],
             [
              0.8888888888888888,
              "#b5de2b"
             ],
             [
              1,
              "#fde725"
             ]
            ],
            "type": "contour"
           }
          ],
          "contourcarpet": [
           {
            "colorbar": {
             "outlinewidth": 1,
             "tickcolor": "rgb(36,36,36)",
             "ticks": "outside"
            },
            "type": "contourcarpet"
           }
          ],
          "heatmap": [
           {
            "colorbar": {
             "outlinewidth": 1,
             "tickcolor": "rgb(36,36,36)",
             "ticks": "outside"
            },
            "colorscale": [
             [
              0,
              "#440154"
             ],
             [
              0.1111111111111111,
              "#482878"
             ],
             [
              0.2222222222222222,
              "#3e4989"
             ],
             [
              0.3333333333333333,
              "#31688e"
             ],
             [
              0.4444444444444444,
              "#26828e"
             ],
             [
              0.5555555555555556,
              "#1f9e89"
             ],
             [
              0.6666666666666666,
              "#35b779"
             ],
             [
              0.7777777777777778,
              "#6ece58"
             ],
             [
              0.8888888888888888,
              "#b5de2b"
             ],
             [
              1,
              "#fde725"
             ]
            ],
            "type": "heatmap"
           }
          ],
          "heatmapgl": [
           {
            "colorbar": {
             "outlinewidth": 1,
             "tickcolor": "rgb(36,36,36)",
             "ticks": "outside"
            },
            "colorscale": [
             [
              0,
              "#440154"
             ],
             [
              0.1111111111111111,
              "#482878"
             ],
             [
              0.2222222222222222,
              "#3e4989"
             ],
             [
              0.3333333333333333,
              "#31688e"
             ],
             [
              0.4444444444444444,
              "#26828e"
             ],
             [
              0.5555555555555556,
              "#1f9e89"
             ],
             [
              0.6666666666666666,
              "#35b779"
             ],
             [
              0.7777777777777778,
              "#6ece58"
             ],
             [
              0.8888888888888888,
              "#b5de2b"
             ],
             [
              1,
              "#fde725"
             ]
            ],
            "type": "heatmapgl"
           }
          ],
          "histogram": [
           {
            "marker": {
             "line": {
              "color": "white",
              "width": 0.6
             }
            },
            "type": "histogram"
           }
          ],
          "histogram2d": [
           {
            "colorbar": {
             "outlinewidth": 1,
             "tickcolor": "rgb(36,36,36)",
             "ticks": "outside"
            },
            "colorscale": [
             [
              0,
              "#440154"
             ],
             [
              0.1111111111111111,
              "#482878"
             ],
             [
              0.2222222222222222,
              "#3e4989"
             ],
             [
              0.3333333333333333,
              "#31688e"
             ],
             [
              0.4444444444444444,
              "#26828e"
             ],
             [
              0.5555555555555556,
              "#1f9e89"
             ],
             [
              0.6666666666666666,
              "#35b779"
             ],
             [
              0.7777777777777778,
              "#6ece58"
             ],
             [
              0.8888888888888888,
              "#b5de2b"
             ],
             [
              1,
              "#fde725"
             ]
            ],
            "type": "histogram2d"
           }
          ],
          "histogram2dcontour": [
           {
            "colorbar": {
             "outlinewidth": 1,
             "tickcolor": "rgb(36,36,36)",
             "ticks": "outside"
            },
            "colorscale": [
             [
              0,
              "#440154"
             ],
             [
              0.1111111111111111,
              "#482878"
             ],
             [
              0.2222222222222222,
              "#3e4989"
             ],
             [
              0.3333333333333333,
              "#31688e"
             ],
             [
              0.4444444444444444,
              "#26828e"
             ],
             [
              0.5555555555555556,
              "#1f9e89"
             ],
             [
              0.6666666666666666,
              "#35b779"
             ],
             [
              0.7777777777777778,
              "#6ece58"
             ],
             [
              0.8888888888888888,
              "#b5de2b"
             ],
             [
              1,
              "#fde725"
             ]
            ],
            "type": "histogram2dcontour"
           }
          ],
          "mesh3d": [
           {
            "colorbar": {
             "outlinewidth": 1,
             "tickcolor": "rgb(36,36,36)",
             "ticks": "outside"
            },
            "type": "mesh3d"
           }
          ],
          "parcoords": [
           {
            "line": {
             "colorbar": {
              "outlinewidth": 1,
              "tickcolor": "rgb(36,36,36)",
              "ticks": "outside"
             }
            },
            "type": "parcoords"
           }
          ],
          "pie": [
           {
            "automargin": true,
            "type": "pie"
           }
          ],
          "scatter": [
           {
            "marker": {
             "colorbar": {
              "outlinewidth": 1,
              "tickcolor": "rgb(36,36,36)",
              "ticks": "outside"
             }
            },
            "type": "scatter"
           }
          ],
          "scatter3d": [
           {
            "line": {
             "colorbar": {
              "outlinewidth": 1,
              "tickcolor": "rgb(36,36,36)",
              "ticks": "outside"
             }
            },
            "marker": {
             "colorbar": {
              "outlinewidth": 1,
              "tickcolor": "rgb(36,36,36)",
              "ticks": "outside"
             }
            },
            "type": "scatter3d"
           }
          ],
          "scattercarpet": [
           {
            "marker": {
             "colorbar": {
              "outlinewidth": 1,
              "tickcolor": "rgb(36,36,36)",
              "ticks": "outside"
             }
            },
            "type": "scattercarpet"
           }
          ],
          "scattergeo": [
           {
            "marker": {
             "colorbar": {
              "outlinewidth": 1,
              "tickcolor": "rgb(36,36,36)",
              "ticks": "outside"
             }
            },
            "type": "scattergeo"
           }
          ],
          "scattergl": [
           {
            "marker": {
             "colorbar": {
              "outlinewidth": 1,
              "tickcolor": "rgb(36,36,36)",
              "ticks": "outside"
             }
            },
            "type": "scattergl"
           }
          ],
          "scattermapbox": [
           {
            "marker": {
             "colorbar": {
              "outlinewidth": 1,
              "tickcolor": "rgb(36,36,36)",
              "ticks": "outside"
             }
            },
            "type": "scattermapbox"
           }
          ],
          "scatterpolar": [
           {
            "marker": {
             "colorbar": {
              "outlinewidth": 1,
              "tickcolor": "rgb(36,36,36)",
              "ticks": "outside"
             }
            },
            "type": "scatterpolar"
           }
          ],
          "scatterpolargl": [
           {
            "marker": {
             "colorbar": {
              "outlinewidth": 1,
              "tickcolor": "rgb(36,36,36)",
              "ticks": "outside"
             }
            },
            "type": "scatterpolargl"
           }
          ],
          "scatterternary": [
           {
            "marker": {
             "colorbar": {
              "outlinewidth": 1,
              "tickcolor": "rgb(36,36,36)",
              "ticks": "outside"
             }
            },
            "type": "scatterternary"
           }
          ],
          "surface": [
           {
            "colorbar": {
             "outlinewidth": 1,
             "tickcolor": "rgb(36,36,36)",
             "ticks": "outside"
            },
            "colorscale": [
             [
              0,
              "#440154"
             ],
             [
              0.1111111111111111,
              "#482878"
             ],
             [
              0.2222222222222222,
              "#3e4989"
             ],
             [
              0.3333333333333333,
              "#31688e"
             ],
             [
              0.4444444444444444,
              "#26828e"
             ],
             [
              0.5555555555555556,
              "#1f9e89"
             ],
             [
              0.6666666666666666,
              "#35b779"
             ],
             [
              0.7777777777777778,
              "#6ece58"
             ],
             [
              0.8888888888888888,
              "#b5de2b"
             ],
             [
              1,
              "#fde725"
             ]
            ],
            "type": "surface"
           }
          ],
          "table": [
           {
            "cells": {
             "fill": {
              "color": "rgb(237,237,237)"
             },
             "line": {
              "color": "white"
             }
            },
            "header": {
             "fill": {
              "color": "rgb(217,217,217)"
             },
             "line": {
              "color": "white"
             }
            },
            "type": "table"
           }
          ]
         },
         "layout": {
          "annotationdefaults": {
           "arrowhead": 0,
           "arrowwidth": 1
          },
          "autotypenumbers": "strict",
          "coloraxis": {
           "colorbar": {
            "outlinewidth": 1,
            "tickcolor": "rgb(36,36,36)",
            "ticks": "outside"
           }
          },
          "colorscale": {
           "diverging": [
            [
             0,
             "rgb(103,0,31)"
            ],
            [
             0.1,
             "rgb(178,24,43)"
            ],
            [
             0.2,
             "rgb(214,96,77)"
            ],
            [
             0.3,
             "rgb(244,165,130)"
            ],
            [
             0.4,
             "rgb(253,219,199)"
            ],
            [
             0.5,
             "rgb(247,247,247)"
            ],
            [
             0.6,
             "rgb(209,229,240)"
            ],
            [
             0.7,
             "rgb(146,197,222)"
            ],
            [
             0.8,
             "rgb(67,147,195)"
            ],
            [
             0.9,
             "rgb(33,102,172)"
            ],
            [
             1,
             "rgb(5,48,97)"
            ]
           ],
           "sequential": [
            [
             0,
             "#440154"
            ],
            [
             0.1111111111111111,
             "#482878"
            ],
            [
             0.2222222222222222,
             "#3e4989"
            ],
            [
             0.3333333333333333,
             "#31688e"
            ],
            [
             0.4444444444444444,
             "#26828e"
            ],
            [
             0.5555555555555556,
             "#1f9e89"
            ],
            [
             0.6666666666666666,
             "#35b779"
            ],
            [
             0.7777777777777778,
             "#6ece58"
            ],
            [
             0.8888888888888888,
             "#b5de2b"
            ],
            [
             1,
             "#fde725"
            ]
           ],
           "sequentialminus": [
            [
             0,
             "#440154"
            ],
            [
             0.1111111111111111,
             "#482878"
            ],
            [
             0.2222222222222222,
             "#3e4989"
            ],
            [
             0.3333333333333333,
             "#31688e"
            ],
            [
             0.4444444444444444,
             "#26828e"
            ],
            [
             0.5555555555555556,
             "#1f9e89"
            ],
            [
             0.6666666666666666,
             "#35b779"
            ],
            [
             0.7777777777777778,
             "#6ece58"
            ],
            [
             0.8888888888888888,
             "#b5de2b"
            ],
            [
             1,
             "#fde725"
            ]
           ]
          },
          "colorway": [
           "#1F77B4",
           "#FF7F0E",
           "#2CA02C",
           "#D62728",
           "#9467BD",
           "#8C564B",
           "#E377C2",
           "#7F7F7F",
           "#BCBD22",
           "#17BECF"
          ],
          "font": {
           "color": "rgb(36,36,36)"
          },
          "geo": {
           "bgcolor": "white",
           "lakecolor": "white",
           "landcolor": "white",
           "showlakes": true,
           "showland": true,
           "subunitcolor": "white"
          },
          "hoverlabel": {
           "align": "left"
          },
          "hovermode": "closest",
          "mapbox": {
           "style": "light"
          },
          "paper_bgcolor": "white",
          "plot_bgcolor": "white",
          "polar": {
           "angularaxis": {
            "gridcolor": "rgb(232,232,232)",
            "linecolor": "rgb(36,36,36)",
            "showgrid": false,
            "showline": true,
            "ticks": "outside"
           },
           "bgcolor": "white",
           "radialaxis": {
            "gridcolor": "rgb(232,232,232)",
            "linecolor": "rgb(36,36,36)",
            "showgrid": false,
            "showline": true,
            "ticks": "outside"
           }
          },
          "scene": {
           "xaxis": {
            "backgroundcolor": "white",
            "gridcolor": "rgb(232,232,232)",
            "gridwidth": 2,
            "linecolor": "rgb(36,36,36)",
            "showbackground": true,
            "showgrid": false,
            "showline": true,
            "ticks": "outside",
            "zeroline": false,
            "zerolinecolor": "rgb(36,36,36)"
           },
           "yaxis": {
            "backgroundcolor": "white",
            "gridcolor": "rgb(232,232,232)",
            "gridwidth": 2,
            "linecolor": "rgb(36,36,36)",
            "showbackground": true,
            "showgrid": false,
            "showline": true,
            "ticks": "outside",
            "zeroline": false,
            "zerolinecolor": "rgb(36,36,36)"
           },
           "zaxis": {
            "backgroundcolor": "white",
            "gridcolor": "rgb(232,232,232)",
            "gridwidth": 2,
            "linecolor": "rgb(36,36,36)",
            "showbackground": true,
            "showgrid": false,
            "showline": true,
            "ticks": "outside",
            "zeroline": false,
            "zerolinecolor": "rgb(36,36,36)"
           }
          },
          "shapedefaults": {
           "fillcolor": "black",
           "line": {
            "width": 0
           },
           "opacity": 0.3
          },
          "ternary": {
           "aaxis": {
            "gridcolor": "rgb(232,232,232)",
            "linecolor": "rgb(36,36,36)",
            "showgrid": false,
            "showline": true,
            "ticks": "outside"
           },
           "baxis": {
            "gridcolor": "rgb(232,232,232)",
            "linecolor": "rgb(36,36,36)",
            "showgrid": false,
            "showline": true,
            "ticks": "outside"
           },
           "bgcolor": "white",
           "caxis": {
            "gridcolor": "rgb(232,232,232)",
            "linecolor": "rgb(36,36,36)",
            "showgrid": false,
            "showline": true,
            "ticks": "outside"
           }
          },
          "title": {
           "x": 0.05
          },
          "xaxis": {
           "automargin": true,
           "gridcolor": "rgb(232,232,232)",
           "linecolor": "rgb(36,36,36)",
           "showgrid": true,
           "showline": true,
           "ticks": "outside",
           "title": {
            "standoff": 15
           },
           "zeroline": false,
           "zerolinecolor": "rgb(36,36,36)"
          },
          "yaxis": {
           "automargin": true,
           "gridcolor": "rgb(232,232,232)",
           "linecolor": "rgb(36,36,36)",
           "showgrid": true,
           "showline": true,
           "ticks": "outside",
           "title": {
            "standoff": 15
           },
           "zeroline": false,
           "zerolinecolor": "rgb(36,36,36)"
          }
         }
        },
        "width": 250,
        "xaxis": {
         "anchor": "y",
         "domain": [
          0,
          0.98
         ],
         "title": {
          "text": "B"
         },
         "type": "log"
        },
        "xaxis2": {
         "anchor": "y2",
         "domain": [
          0,
          0.98
         ],
         "matches": "x",
         "showticklabels": false,
         "type": "log"
        },
        "xaxis3": {
         "anchor": "y3",
         "domain": [
          0,
          0.98
         ],
         "matches": "x",
         "showticklabels": false,
         "type": "log"
        },
        "yaxis": {
         "anchor": "x",
         "domain": [
          0,
          0.3133333333333333
         ],
         "showticklabels": true,
         "title": {
          "text": "R"
         },
         "type": "log"
        },
        "yaxis2": {
         "anchor": "x2",
         "domain": [
          0.34333333333333327,
          0.6566666666666665
         ],
         "showticklabels": true,
         "title": {
          "text": "R<sup>sha</sup>"
         },
         "type": "log"
        },
        "yaxis3": {
         "anchor": "x3",
         "domain": [
          0.6866666666666665,
          0.9999999999999998
         ],
         "showticklabels": true,
         "title": {
          "text": "R<sup>cal</sup>"
         },
         "type": "log"
        }
       }
      }
     },
     "metadata": {},
     "output_type": "display_data"
    }
   ],
   "source": [
    "fig = sim.plot_asymp(df)\n",
    "fig.write_image('compare_B_logistic.pdf')\n",
    "fig"
   ]
  },
  {
   "cell_type": "markdown",
   "metadata": {},
   "source": [
    "#### Fix B and run random seeds to get 90-percentile"
   ]
  },
  {
   "cell_type": "code",
   "execution_count": 12,
   "metadata": {},
   "outputs": [
    {
     "name": "stdout",
     "output_type": "stream",
     "text": [
      "34\n"
     ]
    }
   ],
   "source": [
    "n = 5000\n",
    "B = round(2 * n ** (1/3))  # UMB have optimal B, yet still underperforming than Hybrid\n",
    "print(B)\n",
    "df_raw = sim.run_calibrators_asymp(n_list=[5000], B_list=[B], i_list=np.arange(100))"
   ]
  },
  {
   "cell_type": "code",
   "execution_count": 13,
   "metadata": {},
   "outputs": [
    {
     "name": "stdout",
     "output_type": "stream",
     "text": [
      "\\begin{tabular}{ccccc}\n",
      "\\toprule\n",
      "Metric ($\\times 10^{-3}$) & $\\REL$ & $\\GRP$ & $R$ & MSE \\\\\n",
      "\\midrule\n",
      "Platt & 0.122 & \\bfseries 0.000 & \\bfseries 0.122 & \\bfseries 10.338 \\\\\n",
      "Hybrid & \\bfseries 0.119 & 0.212 & 0.315 & 10.532 \\\\\n",
      "UWB & 0.661 & 0.194 & 0.855 & 11.071 \\\\\n",
      "UMB & 0.647 & 0.212 & 0.839 & 11.055 \\\\\n",
      "\\bottomrule\n",
      "\\end{tabular}\n",
      "\n"
     ]
    },
    {
     "data": {
      "text/html": [
       "<div>\n",
       "<style scoped>\n",
       "    .dataframe tbody tr th:only-of-type {\n",
       "        vertical-align: middle;\n",
       "    }\n",
       "\n",
       "    .dataframe tbody tr th {\n",
       "        vertical-align: top;\n",
       "    }\n",
       "\n",
       "    .dataframe thead th {\n",
       "        text-align: right;\n",
       "    }\n",
       "</style>\n",
       "<table border=\"1\" class=\"dataframe\">\n",
       "  <thead>\n",
       "    <tr style=\"text-align: right;\">\n",
       "      <th>Metric ($\\times 10^{-3}$)</th>\n",
       "      <th>$\\REL$</th>\n",
       "      <th>$\\GRP$</th>\n",
       "      <th>$R$</th>\n",
       "      <th>MSE</th>\n",
       "    </tr>\n",
       "  </thead>\n",
       "  <tbody>\n",
       "    <tr>\n",
       "      <th>Platt</th>\n",
       "      <td>0.122294</td>\n",
       "      <td>0.000000</td>\n",
       "      <td>0.122294</td>\n",
       "      <td>10.338415</td>\n",
       "    </tr>\n",
       "    <tr>\n",
       "      <th>Hybrid</th>\n",
       "      <td>0.118659</td>\n",
       "      <td>0.212339</td>\n",
       "      <td>0.315471</td>\n",
       "      <td>10.531592</td>\n",
       "    </tr>\n",
       "    <tr>\n",
       "      <th>UWB</th>\n",
       "      <td>0.661395</td>\n",
       "      <td>0.193874</td>\n",
       "      <td>0.855270</td>\n",
       "      <td>11.071391</td>\n",
       "    </tr>\n",
       "    <tr>\n",
       "      <th>UMB</th>\n",
       "      <td>0.646514</td>\n",
       "      <td>0.212339</td>\n",
       "      <td>0.838940</td>\n",
       "      <td>11.055062</td>\n",
       "    </tr>\n",
       "  </tbody>\n",
       "</table>\n",
       "</div>"
      ],
      "text/plain": [
       "Metric ($\\times 10^{-3}$)    $\\REL$    $\\GRP$       $R$        MSE\n",
       "Platt                      0.122294  0.000000  0.122294  10.338415\n",
       "Hybrid                     0.118659  0.212339  0.315471  10.531592\n",
       "UWB                        0.661395  0.193874  0.855270  11.071391\n",
       "UMB                        0.646514  0.212339  0.838940  11.055062"
      ]
     },
     "execution_count": 13,
     "metadata": {},
     "output_type": "execute_result"
    }
   ],
   "source": [
    "df_wide, df_str = sim.tabulate(df_raw)\n",
    "print(df_str)\n",
    "df_wide"
   ]
  },
  {
   "cell_type": "markdown",
   "metadata": {},
   "source": [
    "#### Fix B and random seed to plot"
   ]
  },
  {
   "cell_type": "code",
   "execution_count": 14,
   "metadata": {},
   "outputs": [
    {
     "name": "stderr",
     "output_type": "stream",
     "text": [
      "/x/home/zeyusun/work/wip/simulation_calibration.py:418: RuntimeWarning:\n",
      "\n",
      "divide by zero encountered in true_divide\n",
      "\n"
     ]
    },
    {
     "data": {
      "application/vnd.jupyter.widget-view+json": {
       "model_id": "c42334ed799c44a19c2a560f14be5774",
       "version_major": 2,
       "version_minor": 0
      },
      "text/plain": [
       "  0%|          | 0/5 [00:00<?, ?it/s]"
      ]
     },
     "metadata": {},
     "output_type": "display_data"
    },
    {
     "data": {
      "text/html": [
       "<div>\n",
       "<style scoped>\n",
       "    .dataframe tbody tr th:only-of-type {\n",
       "        vertical-align: middle;\n",
       "    }\n",
       "\n",
       "    .dataframe tbody tr th {\n",
       "        vertical-align: top;\n",
       "    }\n",
       "\n",
       "    .dataframe thead th {\n",
       "        text-align: right;\n",
       "    }\n",
       "</style>\n",
       "<table border=\"1\" class=\"dataframe\">\n",
       "  <thead>\n",
       "    <tr style=\"text-align: right;\">\n",
       "      <th>Metric</th>\n",
       "      <th>$\\REL$</th>\n",
       "      <th>$\\GRP$</th>\n",
       "      <th>$R$</th>\n",
       "      <th>MSE</th>\n",
       "    </tr>\n",
       "  </thead>\n",
       "  <tbody>\n",
       "    <tr>\n",
       "      <th>Platt</th>\n",
       "      <td>0.000015</td>\n",
       "      <td>0.000000</td>\n",
       "      <td>0.000015</td>\n",
       "      <td>0.010232</td>\n",
       "    </tr>\n",
       "    <tr>\n",
       "      <th>Hybrid</th>\n",
       "      <td>0.000014</td>\n",
       "      <td>0.000199</td>\n",
       "      <td>0.000213</td>\n",
       "      <td>0.010429</td>\n",
       "    </tr>\n",
       "    <tr>\n",
       "      <th>UWB</th>\n",
       "      <td>0.000499</td>\n",
       "      <td>0.000194</td>\n",
       "      <td>0.000693</td>\n",
       "      <td>0.010909</td>\n",
       "    </tr>\n",
       "    <tr>\n",
       "      <th>UMB</th>\n",
       "      <td>0.000546</td>\n",
       "      <td>0.000199</td>\n",
       "      <td>0.000745</td>\n",
       "      <td>0.010961</td>\n",
       "    </tr>\n",
       "  </tbody>\n",
       "</table>\n",
       "</div>"
      ],
      "text/plain": [
       "Metric    $\\REL$    $\\GRP$       $R$       MSE\n",
       "Platt   0.000015  0.000000  0.000015  0.010232\n",
       "Hybrid  0.000014  0.000199  0.000213  0.010429\n",
       "UWB     0.000499  0.000194  0.000693  0.010909\n",
       "UMB     0.000546  0.000199  0.000745  0.010961"
      ]
     },
     "execution_count": 14,
     "metadata": {},
     "output_type": "execute_result"
    },
    {
     "data": {
      "image/png": "[encoded data removed]",
      "text/plain": [
       "<Figure size 180x180 with 1 Axes>"
      ]
     },
     "metadata": {
      "needs_background": "light"
     },
     "output_type": "display_data"
    }
   ],
   "source": [
    "# B = round(2 * n ** (1/3))  # we might prefer small B for visualization\n",
    "plt.figure(figsize=(2.5, 2.5))\n",
    "df_wide, df_str, _ = sim.run_calibrators(n=n, B=B, seed=3)\n",
    "plt.savefig('compare_rd_logistic.pdf', bbox_inches='tight')\n",
    "df_wide"
   ]
  },
  {
   "cell_type": "markdown",
   "metadata": {},
   "source": [
    "### Simulation 3: Beta calibration\n",
    "$$\n",
    "    \\begin{aligned}\n",
    "    Z &\\sim \\text{Uniform}[0,1], \\\\\n",
    "    Y \\mid Z &\\sim \\text{Bernoulli}(h_{\\text{beta}}(Z; 0.1, 4, 0)).\n",
    "    \\end{aligned}\n",
    "$$"
   ]
  },
  {
   "cell_type": "markdown",
   "metadata": {},
   "source": [
    "#### Risk vs. B"
   ]
  },
  {
   "cell_type": "code",
   "execution_count": 15,
   "metadata": {
    "execution": {
     "iopub.execute_input": "2023-10-07T03:55:41.285955Z",
     "iopub.status.busy": "2023-10-07T03:55:41.285662Z",
     "iopub.status.idle": "2023-10-07T03:55:42.655096Z",
     "shell.execute_reply": "2023-10-07T03:55:42.654577Z",
     "shell.execute_reply.started": "2023-10-07T03:55:41.285924Z"
    }
   },
   "outputs": [
    {
     "data": {
      "text/html": [
       "<div>\n",
       "<style scoped>\n",
       "    .dataframe tbody tr th:only-of-type {\n",
       "        vertical-align: middle;\n",
       "    }\n",
       "\n",
       "    .dataframe tbody tr th {\n",
       "        vertical-align: top;\n",
       "    }\n",
       "\n",
       "    .dataframe thead th {\n",
       "        text-align: right;\n",
       "    }\n",
       "</style>\n",
       "<table border=\"1\" class=\"dataframe\">\n",
       "  <thead>\n",
       "    <tr style=\"text-align: right;\">\n",
       "      <th></th>\n",
       "      <th>Calibrator</th>\n",
       "      <th>Metric</th>\n",
       "      <th>Value</th>\n",
       "      <th>n</th>\n",
       "      <th>B</th>\n",
       "      <th>i</th>\n",
       "    </tr>\n",
       "  </thead>\n",
       "  <tbody>\n",
       "    <tr>\n",
       "      <th>0</th>\n",
       "      <td>Optimal</td>\n",
       "      <td>cal</td>\n",
       "      <td>0.000000e+00</td>\n",
       "      <td>5000</td>\n",
       "      <td>10</td>\n",
       "      <td>0</td>\n",
       "    </tr>\n",
       "    <tr>\n",
       "      <th>1</th>\n",
       "      <td>Optimal</td>\n",
       "      <td>sha</td>\n",
       "      <td>0.000000e+00</td>\n",
       "      <td>5000</td>\n",
       "      <td>10</td>\n",
       "      <td>0</td>\n",
       "    </tr>\n",
       "    <tr>\n",
       "      <th>2</th>\n",
       "      <td>Optimal</td>\n",
       "      <td>ref</td>\n",
       "      <td>1.831218e-02</td>\n",
       "      <td>5000</td>\n",
       "      <td>10</td>\n",
       "      <td>0</td>\n",
       "    </tr>\n",
       "    <tr>\n",
       "      <th>3</th>\n",
       "      <td>Optimal</td>\n",
       "      <td>risk</td>\n",
       "      <td>0.000000e+00</td>\n",
       "      <td>5000</td>\n",
       "      <td>10</td>\n",
       "      <td>0</td>\n",
       "    </tr>\n",
       "    <tr>\n",
       "      <th>4</th>\n",
       "      <td>Optimal</td>\n",
       "      <td>bs</td>\n",
       "      <td>1.831218e-02</td>\n",
       "      <td>5000</td>\n",
       "      <td>10</td>\n",
       "      <td>0</td>\n",
       "    </tr>\n",
       "    <tr>\n",
       "      <th>...</th>\n",
       "      <td>...</td>\n",
       "      <td>...</td>\n",
       "      <td>...</td>\n",
       "      <td>...</td>\n",
       "      <td>...</td>\n",
       "      <td>...</td>\n",
       "    </tr>\n",
       "    <tr>\n",
       "      <th>170</th>\n",
       "      <td>UMB</td>\n",
       "      <td>cal</td>\n",
       "      <td>3.814027e-02</td>\n",
       "      <td>5000</td>\n",
       "      <td>1995</td>\n",
       "      <td>0</td>\n",
       "    </tr>\n",
       "    <tr>\n",
       "      <th>171</th>\n",
       "      <td>UMB</td>\n",
       "      <td>sha</td>\n",
       "      <td>2.388373e-07</td>\n",
       "      <td>5000</td>\n",
       "      <td>1995</td>\n",
       "      <td>0</td>\n",
       "    </tr>\n",
       "    <tr>\n",
       "      <th>172</th>\n",
       "      <td>UMB</td>\n",
       "      <td>ref</td>\n",
       "      <td>1.831218e-02</td>\n",
       "      <td>5000</td>\n",
       "      <td>1995</td>\n",
       "      <td>0</td>\n",
       "    </tr>\n",
       "    <tr>\n",
       "      <th>173</th>\n",
       "      <td>UMB</td>\n",
       "      <td>risk</td>\n",
       "      <td>3.814051e-02</td>\n",
       "      <td>5000</td>\n",
       "      <td>1995</td>\n",
       "      <td>0</td>\n",
       "    </tr>\n",
       "    <tr>\n",
       "      <th>174</th>\n",
       "      <td>UMB</td>\n",
       "      <td>bs</td>\n",
       "      <td>5.645268e-02</td>\n",
       "      <td>5000</td>\n",
       "      <td>1995</td>\n",
       "      <td>0</td>\n",
       "    </tr>\n",
       "  </tbody>\n",
       "</table>\n",
       "<p>175 rows × 6 columns</p>\n",
       "</div>"
      ],
      "text/plain": [
       "    Calibrator Metric         Value     n     B  i\n",
       "0      Optimal    cal  0.000000e+00  5000    10  0\n",
       "1      Optimal    sha  0.000000e+00  5000    10  0\n",
       "2      Optimal    ref  1.831218e-02  5000    10  0\n",
       "3      Optimal   risk  0.000000e+00  5000    10  0\n",
       "4      Optimal     bs  1.831218e-02  5000    10  0\n",
       "..         ...    ...           ...   ...   ... ..\n",
       "170        UMB    cal  3.814027e-02  5000  1995  0\n",
       "171        UMB    sha  2.388373e-07  5000  1995  0\n",
       "172        UMB    ref  1.831218e-02  5000  1995  0\n",
       "173        UMB   risk  3.814051e-02  5000  1995  0\n",
       "174        UMB     bs  5.645268e-02  5000  1995  0\n",
       "\n",
       "[175 rows x 6 columns]"
      ]
     },
     "execution_count": 15,
     "metadata": {},
     "output_type": "execute_result"
    }
   ],
   "source": [
    "sim = BetaCalibrationSimulation(a=0.1, b=4, c=0) #m=0.25)\n",
    "n = 5000\n",
    "df = sim.run_calibrators_asymp(n_list=[n], B_list=np.logspace(1, 3.3, 7, dtype=int), i_list=np.arange(1))\n",
    "df"
   ]
  },
  {
   "cell_type": "code",
   "execution_count": 16,
   "metadata": {},
   "outputs": [
    {
     "data": {
      "application/vnd.plotly.v1+json": {
       "config": {
        "plotlyServerURL": "https://plot.ly"
       },
       "data": [
        {
         "hovertemplate": "Calibrator=Platt<br>Metric=cal<br>B=%{x}<br>Value=%{y}<extra></extra>",
         "legendgroup": "Platt",
         "line": {
          "color": "#636efa",
          "dash": "solid"
         },
         "marker": {
          "symbol": "circle"
         },
         "mode": "lines+markers",
         "name": "Platt",
         "orientation": "v",
         "showlegend": true,
         "type": "scatter",
         "x": [
          10,
          24,
          58,
          141,
          341,
          825,
          1995
         ],
         "xaxis": "x3",
         "y": [
          0.0034091160308481814,
          0.0034091160308481814,
          0.0034091160308481814,
          0.0034091160308481814,
          0.0034091160308481814,
          0.0034091160308481814,
          0.0034091160308481814
         ],
         "yaxis": "y3"
        },
        {
         "hovertemplate": "Calibrator=Platt<br>Metric=sha<br>B=%{x}<br>Value=%{y}<extra></extra>",
         "legendgroup": "Platt",
         "line": {
          "color": "#636efa",
          "dash": "solid"
         },
         "marker": {
          "symbol": "circle"
         },
         "mode": "lines+markers",
         "name": "Platt",
         "orientation": "v",
         "showlegend": false,
         "type": "scatter",
         "x": [
          10,
          24,
          58,
          141,
          341,
          825,
          1995
         ],
         "xaxis": "x2",
         "y": [
          0,
          0,
          0,
          0,
          0,
          0,
          0
         ],
         "yaxis": "y2"
        },
        {
         "hovertemplate": "Calibrator=Platt<br>Metric=risk<br>B=%{x}<br>Value=%{y}<extra></extra>",
         "legendgroup": "Platt",
         "line": {
          "color": "#636efa",
          "dash": "solid"
         },
         "marker": {
          "symbol": "circle"
         },
         "mode": "lines+markers",
         "name": "Platt",
         "orientation": "v",
         "showlegend": false,
         "type": "scatter",
         "x": [
          10,
          24,
          58,
          141,
          341,
          825,
          1995
         ],
         "xaxis": "x",
         "y": [
          0.0034091160308481814,
          0.0034091160308481814,
          0.0034091160308481814,
          0.0034091160308481814,
          0.0034091160308481814,
          0.0034091160308481814,
          0.0034091160308481814
         ],
         "yaxis": "y"
        },
        {
         "hovertemplate": "Calibrator=Hybrid<br>Metric=cal<br>B=%{x}<br>Value=%{y}<extra></extra>",
         "legendgroup": "Hybrid",
         "line": {
          "color": "#EF553B",
          "dash": "dot"
         },
         "marker": {
          "symbol": "diamond"
         },
         "mode": "lines+markers",
         "name": "Hybrid",
         "orientation": "v",
         "showlegend": true,
         "type": "scatter",
         "x": [
          10,
          24,
          58,
          141,
          341,
          825,
          1995
         ],
         "xaxis": "x3",
         "y": [
          0.00220042748615868,
          0.0030497190767793704,
          0.0033204917378370793,
          0.003481897951442597,
          0.003405650214779458,
          0.003412990674194692,
          0.003406241313342321
         ],
         "yaxis": "y3"
        },
        {
         "hovertemplate": "Calibrator=Hybrid<br>Metric=sha<br>B=%{x}<br>Value=%{y}<extra></extra>",
         "legendgroup": "Hybrid",
         "line": {
          "color": "#EF553B",
          "dash": "dot"
         },
         "marker": {
          "symbol": "diamond"
         },
         "mode": "lines+markers",
         "name": "Hybrid",
         "orientation": "v",
         "showlegend": false,
         "type": "scatter",
         "x": [
          10,
          24,
          58,
          141,
          341,
          825,
          1995
         ],
         "xaxis": "x2",
         "y": [
          0.0006170738256011678,
          0.00012547572074846948,
          0.000028324239588851436,
          0.0000073920333763898576,
          0.0000020270542565178185,
          8.256620265426508e-7,
          2.388237800422114e-7
         ],
         "yaxis": "y2"
        },
        {
         "hovertemplate": "Calibrator=Hybrid<br>Metric=risk<br>B=%{x}<br>Value=%{y}<extra></extra>",
         "legendgroup": "Hybrid",
         "line": {
          "color": "#EF553B",
          "dash": "dot"
         },
         "marker": {
          "symbol": "diamond"
         },
         "mode": "lines+markers",
         "name": "Hybrid",
         "orientation": "v",
         "showlegend": false,
         "type": "scatter",
         "x": [
          10,
          24,
          58,
          141,
          341,
          825,
          1995
         ],
         "xaxis": "x",
         "y": [
          0.002817501311759848,
          0.00317519479752784,
          0.0033488159774259308,
          0.003489289984818987,
          0.003407677269035976,
          0.003413816336221235,
          0.003406480137122363
         ],
         "yaxis": "y"
        },
        {
         "hovertemplate": "Calibrator=UWB<br>Metric=cal<br>B=%{x}<br>Value=%{y}<extra></extra>",
         "legendgroup": "UWB",
         "line": {
          "color": "#00cc96",
          "dash": "dash"
         },
         "marker": {
          "symbol": "square"
         },
         "mode": "lines+markers",
         "name": "UWB",
         "orientation": "v",
         "showlegend": true,
         "type": "scatter",
         "x": [
          10,
          24,
          58,
          141,
          341,
          825,
          1995
         ],
         "xaxis": "x3",
         "y": [
          0.00002635683513227316,
          0.00019875907083280236,
          0.0006723934340602082,
          0.0024178949124261896,
          0.0071111832681844825,
          0.017971015435162874,
          0.04970783235337572
         ],
         "yaxis": "y3"
        },
        {
         "hovertemplate": "Calibrator=UWB<br>Metric=sha<br>B=%{x}<br>Value=%{y}<extra></extra>",
         "legendgroup": "UWB",
         "line": {
          "color": "#00cc96",
          "dash": "dash"
         },
         "marker": {
          "symbol": "square"
         },
         "mode": "lines+markers",
         "name": "UWB",
         "orientation": "v",
         "showlegend": false,
         "type": "scatter",
         "x": [
          10,
          24,
          58,
          141,
          341,
          825,
          1995
         ],
         "xaxis": "x2",
         "y": [
          0.0006268124314279634,
          0.00012826115976480415,
          0.000027563501144784474,
          0.0000070147226819031476,
          0.0000020671410500402977,
          6.895699333639104e-7,
          2.3727794995446708e-7
         ],
         "yaxis": "y2"
        },
        {
         "hovertemplate": "Calibrator=UWB<br>Metric=risk<br>B=%{x}<br>Value=%{y}<extra></extra>",
         "legendgroup": "UWB",
         "line": {
          "color": "#00cc96",
          "dash": "dash"
         },
         "marker": {
          "symbol": "square"
         },
         "mode": "lines+markers",
         "name": "UWB",
         "orientation": "v",
         "showlegend": false,
         "type": "scatter",
         "x": [
          10,
          24,
          58,
          141,
          341,
          825,
          1995
         ],
         "xaxis": "x",
         "y": [
          0.0006531692665602366,
          0.0003270202305976065,
          0.0006999569352049927,
          0.0024249096351080927,
          0.007113250409234523,
          0.017971705005096237,
          0.04970806963132567
         ],
         "yaxis": "y"
        },
        {
         "hovertemplate": "Calibrator=UMB<br>Metric=cal<br>B=%{x}<br>Value=%{y}<extra></extra>",
         "legendgroup": "UMB",
         "line": {
          "color": "#ab63fa",
          "dash": "longdash"
         },
         "marker": {
          "symbol": "x"
         },
         "mode": "lines+markers",
         "name": "UMB",
         "orientation": "v",
         "showlegend": true,
         "type": "scatter",
         "x": [
          10,
          24,
          58,
          141,
          341,
          825,
          1995
         ],
         "xaxis": "x3",
         "y": [
          0.00006056712977223656,
          0.00022919726741125142,
          0.0005534069769921219,
          0.0025924406021861327,
          0.0064769656462664625,
          0.01749338497988477,
          0.038140267402961496
         ],
         "yaxis": "y3"
        },
        {
         "hovertemplate": "Calibrator=UMB<br>Metric=sha<br>B=%{x}<br>Value=%{y}<extra></extra>",
         "legendgroup": "UMB",
         "line": {
          "color": "#ab63fa",
          "dash": "longdash"
         },
         "marker": {
          "symbol": "x"
         },
         "mode": "lines+markers",
         "name": "UMB",
         "orientation": "v",
         "showlegend": false,
         "type": "scatter",
         "x": [
          10,
          24,
          58,
          141,
          341,
          825,
          1995
         ],
         "xaxis": "x2",
         "y": [
          0.0006170738256021067,
          0.00012547577014076523,
          0.000028324239110665348,
          0.000007392040256130953,
          0.000002027052349885854,
          8.256635087187382e-7,
          2.388372962024889e-7
         ],
         "yaxis": "y2"
        },
        {
         "hovertemplate": "Calibrator=UMB<br>Metric=risk<br>B=%{x}<br>Value=%{y}<extra></extra>",
         "legendgroup": "UMB",
         "line": {
          "color": "#ab63fa",
          "dash": "longdash"
         },
         "marker": {
          "symbol": "x"
         },
         "mode": "lines+markers",
         "name": "UMB",
         "orientation": "v",
         "showlegend": false,
         "type": "scatter",
         "x": [
          10,
          24,
          58,
          141,
          341,
          825,
          1995
         ],
         "xaxis": "x",
         "y": [
          0.0006776409553743433,
          0.00035467303755201663,
          0.0005817312161027872,
          0.0025998326424422637,
          0.006478992698616348,
          0.01749421064339349,
          0.0381405062402577
         ],
         "yaxis": "y"
        }
       ],
       "layout": {
        "annotations": [
         {
          "font": {},
          "showarrow": false,
          "text": "",
          "textangle": 90,
          "x": 0.98,
          "xanchor": "left",
          "xref": "paper",
          "y": 0.15666666666666665,
          "yanchor": "middle",
          "yref": "paper"
         },
         {
          "font": {},
          "showarrow": false,
          "text": "",
          "textangle": 90,
          "x": 0.98,
          "xanchor": "left",
          "xref": "paper",
          "y": 0.4999999999999999,
          "yanchor": "middle",
          "yref": "paper"
         },
         {
          "font": {},
          "showarrow": false,
          "text": "",
          "textangle": 90,
          "x": 0.98,
          "xanchor": "left",
          "xref": "paper",
          "y": 0.8433333333333332,
          "yanchor": "middle",
          "yref": "paper"
         }
        ],
        "height": 450,
        "legend": {
         "orientation": "h",
         "title": {
          "text": ""
         },
         "tracegroupgap": 0,
         "x": 1,
         "xanchor": "right",
         "y": 1.02,
         "yanchor": "bottom"
        },
        "margin": {
         "b": 0,
         "l": 0,
         "r": 0,
         "t": 0
        },
        "template": {
         "data": {
          "bar": [
           {
            "error_x": {
             "color": "rgb(36,36,36)"
            },
            "error_y": {
             "color": "rgb(36,36,36)"
            },
            "marker": {
             "line": {
              "color": "white",
              "width": 0.5
             },
             "pattern": {
              "fillmode": "overlay",
              "size": 10,
              "solidity": 0.2
             }
            },
            "type": "bar"
           }
          ],
          "barpolar": [
           {
            "marker": {
             "line": {
              "color": "white",
              "width": 0.5
             },
             "pattern": {
              "fillmode": "overlay",
              "size": 10,
              "solidity": 0.2
             }
            },
            "type": "barpolar"
           }
          ],
          "carpet": [
           {
            "aaxis": {
             "endlinecolor": "rgb(36,36,36)",
             "gridcolor": "white",
             "linecolor": "white",
             "minorgridcolor": "white",
             "startlinecolor": "rgb(36,36,36)"
            },
            "baxis": {
             "endlinecolor": "rgb(36,36,36)",
             "gridcolor": "white",
             "linecolor": "white",
             "minorgridcolor": "white",
             "startlinecolor": "rgb(36,36,36)"
            },
            "type": "carpet"
           }
          ],
          "choropleth": [
           {
            "colorbar": {
             "outlinewidth": 1,
             "tickcolor": "rgb(36,36,36)",
             "ticks": "outside"
            },
            "type": "choropleth"
           }
          ],
          "contour": [
           {
            "colorbar": {
             "outlinewidth": 1,
             "tickcolor": "rgb(36,36,36)",
             "ticks": "outside"
            },
            "colorscale": [
             [
              0,
              "#440154"
             ],
             [
              0.1111111111111111,
              "#482878"
             ],
             [
              0.2222222222222222,
              "#3e4989"
             ],
             [
              0.3333333333333333,
              "#31688e"
             ],
             [
              0.4444444444444444,
              "#26828e"
             ],
             [
              0.5555555555555556,
              "#1f9e89"
             ],
             [
              0.6666666666666666,
              "#35b779"
             ],
             [
              0.7777777777777778,
              "#6ece58"
             ],
             [
              0.8888888888888888,
              "#b5de2b"
             ],
             [
              1,
              "#fde725"
             ]
            ],
            "type": "contour"
           }
          ],
          "contourcarpet": [
           {
            "colorbar": {
             "outlinewidth": 1,
             "tickcolor": "rgb(36,36,36)",
             "ticks": "outside"
            },
            "type": "contourcarpet"
           }
          ],
          "heatmap": [
           {
            "colorbar": {
             "outlinewidth": 1,
             "tickcolor": "rgb(36,36,36)",
             "ticks": "outside"
            },
            "colorscale": [
             [
              0,
              "#440154"
             ],
             [
              0.1111111111111111,
              "#482878"
             ],
             [
              0.2222222222222222,
              "#3e4989"
             ],
             [
              0.3333333333333333,
              "#31688e"
             ],
             [
              0.4444444444444444,
              "#26828e"
             ],
             [
              0.5555555555555556,
              "#1f9e89"
             ],
             [
              0.6666666666666666,
              "#35b779"
             ],
             [
              0.7777777777777778,
              "#6ece58"
             ],
             [
              0.8888888888888888,
              "#b5de2b"
             ],
             [
              1,
              "#fde725"
             ]
            ],
            "type": "heatmap"
           }
          ],
          "heatmapgl": [
           {
            "colorbar": {
             "outlinewidth": 1,
             "tickcolor": "rgb(36,36,36)",
             "ticks": "outside"
            },
            "colorscale": [
             [
              0,
              "#440154"
             ],
             [
              0.1111111111111111,
              "#482878"
             ],
             [
              0.2222222222222222,
              "#3e4989"
             ],
             [
              0.3333333333333333,
              "#31688e"
             ],
             [
              0.4444444444444444,
              "#26828e"
             ],
             [
              0.5555555555555556,
              "#1f9e89"
             ],
             [
              0.6666666666666666,
              "#35b779"
             ],
             [
              0.7777777777777778,
              "#6ece58"
             ],
             [
              0.8888888888888888,
              "#b5de2b"
             ],
             [
              1,
              "#fde725"
             ]
            ],
            "type": "heatmapgl"
           }
          ],
          "histogram": [
           {
            "marker": {
             "line": {
              "color": "white",
              "width": 0.6
             }
            },
            "type": "histogram"
           }
          ],
          "histogram2d": [
           {
            "colorbar": {
             "outlinewidth": 1,
             "tickcolor": "rgb(36,36,36)",
             "ticks": "outside"
            },
            "colorscale": [
             [
              0,
              "#440154"
             ],
             [
              0.1111111111111111,
              "#482878"
             ],
             [
              0.2222222222222222,
              "#3e4989"
             ],
             [
              0.3333333333333333,
              "#31688e"
             ],
             [
              0.4444444444444444,
              "#26828e"
             ],
             [
              0.5555555555555556,
              "#1f9e89"
             ],
             [
              0.6666666666666666,
              "#35b779"
             ],
             [
              0.7777777777777778,
              "#6ece58"
             ],
             [
              0.8888888888888888,
              "#b5de2b"
             ],
             [
              1,
              "#fde725"
             ]
            ],
            "type": "histogram2d"
           }
          ],
          "histogram2dcontour": [
           {
            "colorbar": {
             "outlinewidth": 1,
             "tickcolor": "rgb(36,36,36)",
             "ticks": "outside"
            },
            "colorscale": [
             [
              0,
              "#440154"
             ],
             [
              0.1111111111111111,
              "#482878"
             ],
             [
              0.2222222222222222,
              "#3e4989"
             ],
             [
              0.3333333333333333,
              "#31688e"
             ],
             [
              0.4444444444444444,
              "#26828e"
             ],
             [
              0.5555555555555556,
              "#1f9e89"
             ],
             [
              0.6666666666666666,
              "#35b779"
             ],
             [
              0.7777777777777778,
              "#6ece58"
             ],
             [
              0.8888888888888888,
              "#b5de2b"
             ],
             [
              1,
              "#fde725"
             ]
            ],
            "type": "histogram2dcontour"
           }
          ],
          "mesh3d": [
           {
            "colorbar": {
             "outlinewidth": 1,
             "tickcolor": "rgb(36,36,36)",
             "ticks": "outside"
            },
            "type": "mesh3d"
           }
          ],
          "parcoords": [
           {
            "line": {
             "colorbar": {
              "outlinewidth": 1,
              "tickcolor": "rgb(36,36,36)",
              "ticks": "outside"
             }
            },
            "type": "parcoords"
           }
          ],
          "pie": [
           {
            "automargin": true,
            "type": "pie"
           }
          ],
          "scatter": [
           {
            "marker": {
             "colorbar": {
              "outlinewidth": 1,
              "tickcolor": "rgb(36,36,36)",
              "ticks": "outside"
             }
            },
            "type": "scatter"
           }
          ],
          "scatter3d": [
           {
            "line": {
             "colorbar": {
              "outlinewidth": 1,
              "tickcolor": "rgb(36,36,36)",
              "ticks": "outside"
             }
            },
            "marker": {
             "colorbar": {
              "outlinewidth": 1,
              "tickcolor": "rgb(36,36,36)",
              "ticks": "outside"
             }
            },
            "type": "scatter3d"
           }
          ],
          "scattercarpet": [
           {
            "marker": {
             "colorbar": {
              "outlinewidth": 1,
              "tickcolor": "rgb(36,36,36)",
              "ticks": "outside"
             }
            },
            "type": "scattercarpet"
           }
          ],
          "scattergeo": [
           {
            "marker": {
             "colorbar": {
              "outlinewidth": 1,
              "tickcolor": "rgb(36,36,36)",
              "ticks": "outside"
             }
            },
            "type": "scattergeo"
           }
          ],
          "scattergl": [
           {
            "marker": {
             "colorbar": {
              "outlinewidth": 1,
              "tickcolor": "rgb(36,36,36)",
              "ticks": "outside"
             }
            },
            "type": "scattergl"
           }
          ],
          "scattermapbox": [
           {
            "marker": {
             "colorbar": {
              "outlinewidth": 1,
              "tickcolor": "rgb(36,36,36)",
              "ticks": "outside"
             }
            },
            "type": "scattermapbox"
           }
          ],
          "scatterpolar": [
           {
            "marker": {
             "colorbar": {
              "outlinewidth": 1,
              "tickcolor": "rgb(36,36,36)",
              "ticks": "outside"
             }
            },
            "type": "scatterpolar"
           }
          ],
          "scatterpolargl": [
           {
            "marker": {
             "colorbar": {
              "outlinewidth": 1,
              "tickcolor": "rgb(36,36,36)",
              "ticks": "outside"
             }
            },
            "type": "scatterpolargl"
           }
          ],
          "scatterternary": [
           {
            "marker": {
             "colorbar": {
              "outlinewidth": 1,
              "tickcolor": "rgb(36,36,36)",
              "ticks": "outside"
             }
            },
            "type": "scatterternary"
           }
          ],
          "surface": [
           {
            "colorbar": {
             "outlinewidth": 1,
             "tickcolor": "rgb(36,36,36)",
             "ticks": "outside"
            },
            "colorscale": [
             [
              0,
              "#440154"
             ],
             [
              0.1111111111111111,
              "#482878"
             ],
             [
              0.2222222222222222,
              "#3e4989"
             ],
             [
              0.3333333333333333,
              "#31688e"
             ],
             [
              0.4444444444444444,
              "#26828e"
             ],
             [
              0.5555555555555556,
              "#1f9e89"
             ],
             [
              0.6666666666666666,
              "#35b779"
             ],
             [
              0.7777777777777778,
              "#6ece58"
             ],
             [
              0.8888888888888888,
              "#b5de2b"
             ],
             [
              1,
              "#fde725"
             ]
            ],
            "type": "surface"
           }
          ],
          "table": [
           {
            "cells": {
             "fill": {
              "color": "rgb(237,237,237)"
             },
             "line": {
              "color": "white"
             }
            },
            "header": {
             "fill": {
              "color": "rgb(217,217,217)"
             },
             "line": {
              "color": "white"
             }
            },
            "type": "table"
           }
          ]
         },
         "layout": {
          "annotationdefaults": {
           "arrowhead": 0,
           "arrowwidth": 1
          },
          "autotypenumbers": "strict",
          "coloraxis": {
           "colorbar": {
            "outlinewidth": 1,
            "tickcolor": "rgb(36,36,36)",
            "ticks": "outside"
           }
          },
          "colorscale": {
           "diverging": [
            [
             0,
             "rgb(103,0,31)"
            ],
            [
             0.1,
             "rgb(178,24,43)"
            ],
            [
             0.2,
             "rgb(214,96,77)"
            ],
            [
             0.3,
             "rgb(244,165,130)"
            ],
            [
             0.4,
             "rgb(253,219,199)"
            ],
            [
             0.5,
             "rgb(247,247,247)"
            ],
            [
             0.6,
             "rgb(209,229,240)"
            ],
            [
             0.7,
             "rgb(146,197,222)"
            ],
            [
             0.8,
             "rgb(67,147,195)"
            ],
            [
             0.9,
             "rgb(33,102,172)"
            ],
            [
             1,
             "rgb(5,48,97)"
            ]
           ],
           "sequential": [
            [
             0,
             "#440154"
            ],
            [
             0.1111111111111111,
             "#482878"
            ],
            [
             0.2222222222222222,
             "#3e4989"
            ],
            [
             0.3333333333333333,
             "#31688e"
            ],
            [
             0.4444444444444444,
             "#26828e"
            ],
            [
             0.5555555555555556,
             "#1f9e89"
            ],
            [
             0.6666666666666666,
             "#35b779"
            ],
            [
             0.7777777777777778,
             "#6ece58"
            ],
            [
             0.8888888888888888,
             "#b5de2b"
            ],
            [
             1,
             "#fde725"
            ]
           ],
           "sequentialminus": [
            [
             0,
             "#440154"
            ],
            [
             0.1111111111111111,
             "#482878"
            ],
            [
             0.2222222222222222,
             "#3e4989"
            ],
            [
             0.3333333333333333,
             "#31688e"
            ],
            [
             0.4444444444444444,
             "#26828e"
            ],
            [
             0.5555555555555556,
             "#1f9e89"
            ],
            [
             0.6666666666666666,
             "#35b779"
            ],
            [
             0.7777777777777778,
             "#6ece58"
            ],
            [
             0.8888888888888888,
             "#b5de2b"
            ],
            [
             1,
             "#fde725"
            ]
           ]
          },
          "colorway": [
           "#1F77B4",
           "#FF7F0E",
           "#2CA02C",
           "#D62728",
           "#9467BD",
           "#8C564B",
           "#E377C2",
           "#7F7F7F",
           "#BCBD22",
           "#17BECF"
          ],
          "font": {
           "color": "rgb(36,36,36)"
          },
          "geo": {
           "bgcolor": "white",
           "lakecolor": "white",
           "landcolor": "white",
           "showlakes": true,
           "showland": true,
           "subunitcolor": "white"
          },
          "hoverlabel": {
           "align": "left"
          },
          "hovermode": "closest",
          "mapbox": {
           "style": "light"
          },
          "paper_bgcolor": "white",
          "plot_bgcolor": "white",
          "polar": {
           "angularaxis": {
            "gridcolor": "rgb(232,232,232)",
            "linecolor": "rgb(36,36,36)",
            "showgrid": false,
            "showline": true,
            "ticks": "outside"
           },
           "bgcolor": "white",
           "radialaxis": {
            "gridcolor": "rgb(232,232,232)",
            "linecolor": "rgb(36,36,36)",
            "showgrid": false,
            "showline": true,
            "ticks": "outside"
           }
          },
          "scene": {
           "xaxis": {
            "backgroundcolor": "white",
            "gridcolor": "rgb(232,232,232)",
            "gridwidth": 2,
            "linecolor": "rgb(36,36,36)",
            "showbackground": true,
            "showgrid": false,
            "showline": true,
            "ticks": "outside",
            "zeroline": false,
            "zerolinecolor": "rgb(36,36,36)"
           },
           "yaxis": {
            "backgroundcolor": "white",
            "gridcolor": "rgb(232,232,232)",
            "gridwidth": 2,
            "linecolor": "rgb(36,36,36)",
            "showbackground": true,
            "showgrid": false,
            "showline": true,
            "ticks": "outside",
            "zeroline": false,
            "zerolinecolor": "rgb(36,36,36)"
           },
           "zaxis": {
            "backgroundcolor": "white",
            "gridcolor": "rgb(232,232,232)",
            "gridwidth": 2,
            "linecolor": "rgb(36,36,36)",
            "showbackground": true,
            "showgrid": false,
            "showline": true,
            "ticks": "outside",
            "zeroline": false,
            "zerolinecolor": "rgb(36,36,36)"
           }
          },
          "shapedefaults": {
           "fillcolor": "black",
           "line": {
            "width": 0
           },
           "opacity": 0.3
          },
          "ternary": {
           "aaxis": {
            "gridcolor": "rgb(232,232,232)",
            "linecolor": "rgb(36,36,36)",
            "showgrid": false,
            "showline": true,
            "ticks": "outside"
           },
           "baxis": {
            "gridcolor": "rgb(232,232,232)",
            "linecolor": "rgb(36,36,36)",
            "showgrid": false,
            "showline": true,
            "ticks": "outside"
           },
           "bgcolor": "white",
           "caxis": {
            "gridcolor": "rgb(232,232,232)",
            "linecolor": "rgb(36,36,36)",
            "showgrid": false,
            "showline": true,
            "ticks": "outside"
           }
          },
          "title": {
           "x": 0.05
          },
          "xaxis": {
           "automargin": true,
           "gridcolor": "rgb(232,232,232)",
           "linecolor": "rgb(36,36,36)",
           "showgrid": true,
           "showline": true,
           "ticks": "outside",
           "title": {
            "standoff": 15
           },
           "zeroline": false,
           "zerolinecolor": "rgb(36,36,36)"
          },
          "yaxis": {
           "automargin": true,
           "gridcolor": "rgb(232,232,232)",
           "linecolor": "rgb(36,36,36)",
           "showgrid": true,
           "showline": true,
           "ticks": "outside",
           "title": {
            "standoff": 15
           },
           "zeroline": false,
           "zerolinecolor": "rgb(36,36,36)"
          }
         }
        },
        "width": 250,
        "xaxis": {
         "anchor": "y",
         "domain": [
          0,
          0.98
         ],
         "title": {
          "text": "B"
         },
         "type": "log"
        },
        "xaxis2": {
         "anchor": "y2",
         "domain": [
          0,
          0.98
         ],
         "matches": "x",
         "showticklabels": false,
         "type": "log"
        },
        "xaxis3": {
         "anchor": "y3",
         "domain": [
          0,
          0.98
         ],
         "matches": "x",
         "showticklabels": false,
         "type": "log"
        },
        "yaxis": {
         "anchor": "x",
         "domain": [
          0,
          0.3133333333333333
         ],
         "showticklabels": true,
         "title": {
          "text": "R"
         },
         "type": "log"
        },
        "yaxis2": {
         "anchor": "x2",
         "domain": [
          0.34333333333333327,
          0.6566666666666665
         ],
         "showticklabels": true,
         "title": {
          "text": "R<sup>sha</sup>"
         },
         "type": "log"
        },
        "yaxis3": {
         "anchor": "x3",
         "domain": [
          0.6866666666666665,
          0.9999999999999998
         ],
         "showticklabels": true,
         "title": {
          "text": "R<sup>cal</sup>"
         },
         "type": "log"
        }
       }
      }
     },
     "metadata": {},
     "output_type": "display_data"
    }
   ],
   "source": [
    "fig = sim.plot_asymp(df)\n",
    "fig.write_image('compare_B_beta.pdf')\n",
    "fig"
   ]
  },
  {
   "cell_type": "markdown",
   "metadata": {},
   "source": [
    "#### Fix B and run random seeds to get 90-percentile"
   ]
  },
  {
   "cell_type": "code",
   "execution_count": 17,
   "metadata": {},
   "outputs": [
    {
     "name": "stdout",
     "output_type": "stream",
     "text": [
      "17\n"
     ]
    }
   ],
   "source": [
    "B = round(n ** (1/3))\n",
    "print(B)\n",
    "df_raw = sim.run_calibrators_asymp(n_list=[n], B_list=[B], i_list=np.arange(100))"
   ]
  },
  {
   "cell_type": "code",
   "execution_count": 18,
   "metadata": {},
   "outputs": [
    {
     "name": "stdout",
     "output_type": "stream",
     "text": [
      "\\begin{tabular}{ccccc}\n",
      "\\toprule\n",
      "Metric ($\\times 10^{-3}$) & $\\REL$ & $\\GRP$ & $R$ & MSE \\\\\n",
      "\\midrule\n",
      "Platt & 3.682 & \\bfseries 0.000 & 3.682 & 21.994 \\\\\n",
      "Hybrid & 3.117 & 0.251 & 3.360 & 21.672 \\\\\n",
      "UWB & 0.572 & 0.238 & 0.810 & 19.122 \\\\\n",
      "UMB & \\bfseries 0.560 & 0.251 & \\bfseries 0.797 & \\bfseries 19.109 \\\\\n",
      "\\bottomrule\n",
      "\\end{tabular}\n",
      "\n"
     ]
    },
    {
     "data": {
      "text/html": [
       "<div>\n",
       "<style scoped>\n",
       "    .dataframe tbody tr th:only-of-type {\n",
       "        vertical-align: middle;\n",
       "    }\n",
       "\n",
       "    .dataframe tbody tr th {\n",
       "        vertical-align: top;\n",
       "    }\n",
       "\n",
       "    .dataframe thead th {\n",
       "        text-align: right;\n",
       "    }\n",
       "</style>\n",
       "<table border=\"1\" class=\"dataframe\">\n",
       "  <thead>\n",
       "    <tr style=\"text-align: right;\">\n",
       "      <th>Metric ($\\times 10^{-3}$)</th>\n",
       "      <th>$\\REL$</th>\n",
       "      <th>$\\GRP$</th>\n",
       "      <th>$R$</th>\n",
       "      <th>MSE</th>\n",
       "    </tr>\n",
       "  </thead>\n",
       "  <tbody>\n",
       "    <tr>\n",
       "      <th>Platt</th>\n",
       "      <td>3.681965</td>\n",
       "      <td>0.000000</td>\n",
       "      <td>3.681965</td>\n",
       "      <td>21.994141</td>\n",
       "    </tr>\n",
       "    <tr>\n",
       "      <th>Hybrid</th>\n",
       "      <td>3.117253</td>\n",
       "      <td>0.251361</td>\n",
       "      <td>3.359704</td>\n",
       "      <td>21.671880</td>\n",
       "    </tr>\n",
       "    <tr>\n",
       "      <th>UWB</th>\n",
       "      <td>0.572079</td>\n",
       "      <td>0.237797</td>\n",
       "      <td>0.809876</td>\n",
       "      <td>19.122052</td>\n",
       "    </tr>\n",
       "    <tr>\n",
       "      <th>UMB</th>\n",
       "      <td>0.559846</td>\n",
       "      <td>0.251361</td>\n",
       "      <td>0.797110</td>\n",
       "      <td>19.109286</td>\n",
       "    </tr>\n",
       "  </tbody>\n",
       "</table>\n",
       "</div>"
      ],
      "text/plain": [
       "Metric ($\\times 10^{-3}$)    $\\REL$    $\\GRP$       $R$        MSE\n",
       "Platt                      3.681965  0.000000  3.681965  21.994141\n",
       "Hybrid                     3.117253  0.251361  3.359704  21.671880\n",
       "UWB                        0.572079  0.237797  0.809876  19.122052\n",
       "UMB                        0.559846  0.251361  0.797110  19.109286"
      ]
     },
     "execution_count": 18,
     "metadata": {},
     "output_type": "execute_result"
    }
   ],
   "source": [
    "df_wide, df_str = sim.tabulate(df_raw)\n",
    "print(df_str)\n",
    "df_wide"
   ]
  },
  {
   "cell_type": "markdown",
   "metadata": {},
   "source": [
    "#### Fix B and random seed to plot"
   ]
  },
  {
   "cell_type": "code",
   "execution_count": 19,
   "metadata": {},
   "outputs": [
    {
     "name": "stderr",
     "output_type": "stream",
     "text": [
      "/x/home/zeyusun/work/wip/simulation_calibration.py:418: RuntimeWarning:\n",
      "\n",
      "divide by zero encountered in true_divide\n",
      "\n"
     ]
    },
    {
     "data": {
      "application/vnd.jupyter.widget-view+json": {
       "model_id": "79ecc4441b3e4353af99b25fafc9c8fa",
       "version_major": 2,
       "version_minor": 0
      },
      "text/plain": [
       "  0%|          | 0/5 [00:00<?, ?it/s]"
      ]
     },
     "metadata": {},
     "output_type": "display_data"
    },
    {
     "name": "stdout",
     "output_type": "stream",
     "text": [
      "\\begin{tabular}{ccccc}\n",
      "\\toprule\n",
      "Metric & $\\REL$ & $\\GRP$ & $R$ & MSE \\\\\n",
      "\\midrule\n",
      "Platt & 0.003409 & \\bfseries 0.000000 & 0.003409 & 0.021721 \\\\\n",
      "Hybrid & 0.002939 & 0.000234 & 0.003173 & 0.021485 \\\\\n",
      "UWB & 0.000155 & 0.000238 & 0.000392 & 0.018705 \\\\\n",
      "UMB & \\bfseries 0.000134 & 0.000234 & \\bfseries 0.000368 & \\bfseries 0.018680 \\\\\n",
      "\\bottomrule\n",
      "\\end{tabular}\n",
      "\n"
     ]
    },
    {
     "data": {
      "text/html": [
       "<div>\n",
       "<style scoped>\n",
       "    .dataframe tbody tr th:only-of-type {\n",
       "        vertical-align: middle;\n",
       "    }\n",
       "\n",
       "    .dataframe tbody tr th {\n",
       "        vertical-align: top;\n",
       "    }\n",
       "\n",
       "    .dataframe thead th {\n",
       "        text-align: right;\n",
       "    }\n",
       "</style>\n",
       "<table border=\"1\" class=\"dataframe\">\n",
       "  <thead>\n",
       "    <tr style=\"text-align: right;\">\n",
       "      <th>Metric</th>\n",
       "      <th>$\\REL$</th>\n",
       "      <th>$\\GRP$</th>\n",
       "      <th>$R$</th>\n",
       "      <th>MSE</th>\n",
       "    </tr>\n",
       "  </thead>\n",
       "  <tbody>\n",
       "    <tr>\n",
       "      <th>Platt</th>\n",
       "      <td>0.003409</td>\n",
       "      <td>0.000000</td>\n",
       "      <td>0.003409</td>\n",
       "      <td>0.021721</td>\n",
       "    </tr>\n",
       "    <tr>\n",
       "      <th>Hybrid</th>\n",
       "      <td>0.002939</td>\n",
       "      <td>0.000234</td>\n",
       "      <td>0.003173</td>\n",
       "      <td>0.021485</td>\n",
       "    </tr>\n",
       "    <tr>\n",
       "      <th>UWB</th>\n",
       "      <td>0.000155</td>\n",
       "      <td>0.000238</td>\n",
       "      <td>0.000392</td>\n",
       "      <td>0.018705</td>\n",
       "    </tr>\n",
       "    <tr>\n",
       "      <th>UMB</th>\n",
       "      <td>0.000134</td>\n",
       "      <td>0.000234</td>\n",
       "      <td>0.000368</td>\n",
       "      <td>0.018680</td>\n",
       "    </tr>\n",
       "  </tbody>\n",
       "</table>\n",
       "</div>"
      ],
      "text/plain": [
       "Metric    $\\REL$    $\\GRP$       $R$       MSE\n",
       "Platt   0.003409  0.000000  0.003409  0.021721\n",
       "Hybrid  0.002939  0.000234  0.003173  0.021485\n",
       "UWB     0.000155  0.000238  0.000392  0.018705\n",
       "UMB     0.000134  0.000234  0.000368  0.018680"
      ]
     },
     "execution_count": 19,
     "metadata": {},
     "output_type": "execute_result"
    },
    {
     "data": {
      "image/png": "[encoded data removed]",
      "text/plain": [
       "<Figure size 180x180 with 1 Axes>"
      ]
     },
     "metadata": {
      "needs_background": "light"
     },
     "output_type": "display_data"
    }
   ],
   "source": [
    "plt.figure(figsize=(2.5, 2.5))\n",
    "df_wide, df_str, _ = sim.run_calibrators(n=n, B=B, seed=0)\n",
    "plt.savefig('compare_rd_beta.pdf', bbox_inches='tight')\n",
    "print(df_str)\n",
    "df_wide"
   ]
  }
 ],
 "metadata": {
  "kernelspec": {
   "display_name": "Python 3 (ipykernel)",
   "language": "python",
   "name": "python3"
  },
  "language_info": {
   "codemirror_mode": {
    "name": "ipython",
    "version": 3
   },
   "file_extension": ".py",
   "mimetype": "text/x-python",
   "name": "python",
   "nbconvert_exporter": "python",
   "pygments_lexer": "ipython3",
   "version": "3.9.12"
  }
 },
 "nbformat": 4,
 "nbformat_minor": 4
}
